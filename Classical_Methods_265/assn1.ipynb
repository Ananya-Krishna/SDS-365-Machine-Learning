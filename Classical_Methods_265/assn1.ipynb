{
 "cells": [
  {
   "cell_type": "markdown",
   "metadata": {},
   "source": [
    "## Introductory Machine Learning: Assignment 1\n",
    "\n",
    "**Deadline:**\n",
    "\n",
    "Assignment 1 is due Thursday, September 29 at 11:59pm. Late work will not be accepted as per the course policies (see the syllabus on [Canvas](https://canvas.yale.edu)).\n",
    "\n",
    "Directly sharing answers is not okay, but discussing problems with the course staff or with other students is encouraged.\n",
    "\n",
    "You should start early so that you have time to get help if you're stuck. The drop-in office hours schedule can be found on [Canvas](https://canvas.yale.edu).  You can also post questions or start discussions on [Ed Discussion](https://edstem.org/us/courses/21834/discussion/). The assignment may look long at first glance, but the problems are broken up into steps that should help you to make steady progress.\n",
    "\n",
    "**Submission:**\n",
    "\n",
    "Submit your assignment as a .pdf on Gradescope. You can access Gradescope through Canvas on the left-side of the class home page. The problems in each homework assignment are numbered. Note: When submitting on Gradescope, please select the correct pages of your pdf that correspond to each problem. This will allow graders to find your complete solution to each problem.\n",
    "\n",
    "To produce the .pdf, please do the following in order to preserve the cell structure of the notebook:  \n",
    "1.  Go to \"File\" at the top-left of your Jupyter Notebook\n",
    "2.  Under \"Download as\", select \"HTML (.html)\"\n",
    "3.  After the .html has downloaded, open it and then select \"File\" and \"Print\" (note you will not actually be printing)\n",
    "4.  From the print window, select the option to save as a .pdf\n",
    "\n",
    "**Topics**\n",
    "1. Linear regression\n",
    "2. k-nearest-neighbor classification\n",
    "\n",
    "This assignment will also help you to learn the essentials of Python, Pandas, and Jupyter notebooks. "
   ]
  },
  {
   "cell_type": "markdown",
   "metadata": {},
   "source": [
    "## Problem 1: Linear Regression with Covid Data"
   ]
  },
  {
   "cell_type": "markdown",
   "metadata": {},
   "source": [
    "The New York Times Covid-19 Database is \n",
    "a county-level database of confirmed cases and deaths, \n",
    "compiled from state and local governments and health departments across the United States.\n",
    "The initial release of the database was on Thursday, March 26, 2020, and it is updated daily. \n",
    "\n",
    "The data are publically available via GitHub: [https://github.com/nytimes/covid-19-data](https://www.nytimes.com/interactive/2020/us/coronavirus-us-cases.html).  In this problem we will only use the data aggregated across states."
   ]
  },
  {
   "cell_type": "code",
   "execution_count": 7,
   "metadata": {},
   "outputs": [],
   "source": [
    "import pandas as pd\n",
    "import numpy as np\n",
    "import matplotlib.pyplot as plt"
   ]
  },
  {
   "cell_type": "markdown",
   "metadata": {},
   "source": [
    "### Load the data\n",
    "\n",
    "First, read the whole dataset including the accumulated cases and deaths for each state for each day."
   ]
  },
  {
   "cell_type": "code",
   "execution_count": 8,
   "metadata": {},
   "outputs": [
    {
     "data": {
      "text/html": [
       "<div>\n",
       "<style scoped>\n",
       "    .dataframe tbody tr th:only-of-type {\n",
       "        vertical-align: middle;\n",
       "    }\n",
       "\n",
       "    .dataframe tbody tr th {\n",
       "        vertical-align: top;\n",
       "    }\n",
       "\n",
       "    .dataframe thead th {\n",
       "        text-align: right;\n",
       "    }\n",
       "</style>\n",
       "<table border=\"1\" class=\"dataframe\">\n",
       "  <thead>\n",
       "    <tr style=\"text-align: right;\">\n",
       "      <th></th>\n",
       "      <th>date</th>\n",
       "      <th>state</th>\n",
       "      <th>cases</th>\n",
       "      <th>deaths</th>\n",
       "    </tr>\n",
       "  </thead>\n",
       "  <tbody>\n",
       "    <tr>\n",
       "      <th>61932</th>\n",
       "      <td>2023-03-23</td>\n",
       "      <td>Tennessee</td>\n",
       "      <td>2459152</td>\n",
       "      <td>29035</td>\n",
       "    </tr>\n",
       "    <tr>\n",
       "      <th>61933</th>\n",
       "      <td>2023-03-23</td>\n",
       "      <td>Texas</td>\n",
       "      <td>8447168</td>\n",
       "      <td>94518</td>\n",
       "    </tr>\n",
       "    <tr>\n",
       "      <th>61934</th>\n",
       "      <td>2023-03-23</td>\n",
       "      <td>Utah</td>\n",
       "      <td>1093049</td>\n",
       "      <td>5316</td>\n",
       "    </tr>\n",
       "    <tr>\n",
       "      <th>61935</th>\n",
       "      <td>2023-03-23</td>\n",
       "      <td>Vermont</td>\n",
       "      <td>153198</td>\n",
       "      <td>939</td>\n",
       "    </tr>\n",
       "    <tr>\n",
       "      <th>61936</th>\n",
       "      <td>2023-03-23</td>\n",
       "      <td>Virgin Islands</td>\n",
       "      <td>24838</td>\n",
       "      <td>130</td>\n",
       "    </tr>\n",
       "    <tr>\n",
       "      <th>61937</th>\n",
       "      <td>2023-03-23</td>\n",
       "      <td>Virginia</td>\n",
       "      <td>2298300</td>\n",
       "      <td>23782</td>\n",
       "    </tr>\n",
       "    <tr>\n",
       "      <th>61938</th>\n",
       "      <td>2023-03-23</td>\n",
       "      <td>Washington</td>\n",
       "      <td>1940704</td>\n",
       "      <td>15905</td>\n",
       "    </tr>\n",
       "    <tr>\n",
       "      <th>61939</th>\n",
       "      <td>2023-03-23</td>\n",
       "      <td>West Virginia</td>\n",
       "      <td>645710</td>\n",
       "      <td>8132</td>\n",
       "    </tr>\n",
       "    <tr>\n",
       "      <th>61940</th>\n",
       "      <td>2023-03-23</td>\n",
       "      <td>Wisconsin</td>\n",
       "      <td>2014524</td>\n",
       "      <td>16485</td>\n",
       "    </tr>\n",
       "    <tr>\n",
       "      <th>61941</th>\n",
       "      <td>2023-03-23</td>\n",
       "      <td>Wyoming</td>\n",
       "      <td>185800</td>\n",
       "      <td>2014</td>\n",
       "    </tr>\n",
       "  </tbody>\n",
       "</table>\n",
       "</div>"
      ],
      "text/plain": [
       "             date           state    cases  deaths\n",
       "61932  2023-03-23       Tennessee  2459152   29035\n",
       "61933  2023-03-23           Texas  8447168   94518\n",
       "61934  2023-03-23            Utah  1093049    5316\n",
       "61935  2023-03-23         Vermont   153198     939\n",
       "61936  2023-03-23  Virgin Islands    24838     130\n",
       "61937  2023-03-23        Virginia  2298300   23782\n",
       "61938  2023-03-23      Washington  1940704   15905\n",
       "61939  2023-03-23   West Virginia   645710    8132\n",
       "61940  2023-03-23       Wisconsin  2014524   16485\n",
       "61941  2023-03-23         Wyoming   185800    2014"
      ]
     },
     "execution_count": 8,
     "metadata": {},
     "output_type": "execute_result"
    }
   ],
   "source": [
    "covid_table = pd.read_csv(\"https://raw.githubusercontent.com/nytimes/covid-19-data/master/us-states.csv\")\n",
    "covid_table = covid_table.drop('fips', axis=1)\n",
    "covid_table.tail(10)"
   ]
  },
  {
   "cell_type": "markdown",
   "metadata": {},
   "source": [
    "### Aggregate data across states\n",
    "\n",
    "We can merge data from different states to get the total number of cases and deaths for the country. Here we also show an example of visualizing the data."
   ]
  },
  {
   "cell_type": "code",
   "execution_count": 9,
   "metadata": {},
   "outputs": [
    {
     "data": {
      "text/html": [
       "<div>\n",
       "<style scoped>\n",
       "    .dataframe tbody tr th:only-of-type {\n",
       "        vertical-align: middle;\n",
       "    }\n",
       "\n",
       "    .dataframe tbody tr th {\n",
       "        vertical-align: top;\n",
       "    }\n",
       "\n",
       "    .dataframe thead th {\n",
       "        text-align: right;\n",
       "    }\n",
       "</style>\n",
       "<table border=\"1\" class=\"dataframe\">\n",
       "  <thead>\n",
       "    <tr style=\"text-align: right;\">\n",
       "      <th></th>\n",
       "      <th>cases</th>\n",
       "      <th>deaths</th>\n",
       "    </tr>\n",
       "    <tr>\n",
       "      <th>date</th>\n",
       "      <th></th>\n",
       "      <th></th>\n",
       "    </tr>\n",
       "  </thead>\n",
       "  <tbody>\n",
       "    <tr>\n",
       "      <th>2023-03-14</th>\n",
       "      <td>103571472</td>\n",
       "      <td>1132310</td>\n",
       "    </tr>\n",
       "    <tr>\n",
       "      <th>2023-03-15</th>\n",
       "      <td>103709101</td>\n",
       "      <td>1133022</td>\n",
       "    </tr>\n",
       "    <tr>\n",
       "      <th>2023-03-16</th>\n",
       "      <td>103763561</td>\n",
       "      <td>1133461</td>\n",
       "    </tr>\n",
       "    <tr>\n",
       "      <th>2023-03-17</th>\n",
       "      <td>103782317</td>\n",
       "      <td>1133824</td>\n",
       "    </tr>\n",
       "    <tr>\n",
       "      <th>2023-03-18</th>\n",
       "      <td>103783492</td>\n",
       "      <td>1133826</td>\n",
       "    </tr>\n",
       "    <tr>\n",
       "      <th>2023-03-19</th>\n",
       "      <td>103784916</td>\n",
       "      <td>1133826</td>\n",
       "    </tr>\n",
       "    <tr>\n",
       "      <th>2023-03-20</th>\n",
       "      <td>103794703</td>\n",
       "      <td>1133964</td>\n",
       "    </tr>\n",
       "    <tr>\n",
       "      <th>2023-03-21</th>\n",
       "      <td>103813076</td>\n",
       "      <td>1134177</td>\n",
       "    </tr>\n",
       "    <tr>\n",
       "      <th>2023-03-22</th>\n",
       "      <td>103864888</td>\n",
       "      <td>1134913</td>\n",
       "    </tr>\n",
       "    <tr>\n",
       "      <th>2023-03-23</th>\n",
       "      <td>103910034</td>\n",
       "      <td>1135343</td>\n",
       "    </tr>\n",
       "  </tbody>\n",
       "</table>\n",
       "</div>"
      ],
      "text/plain": [
       "                cases   deaths\n",
       "date                          \n",
       "2023-03-14  103571472  1132310\n",
       "2023-03-15  103709101  1133022\n",
       "2023-03-16  103763561  1133461\n",
       "2023-03-17  103782317  1133824\n",
       "2023-03-18  103783492  1133826\n",
       "2023-03-19  103784916  1133826\n",
       "2023-03-20  103794703  1133964\n",
       "2023-03-21  103813076  1134177\n",
       "2023-03-22  103864888  1134913\n",
       "2023-03-23  103910034  1135343"
      ]
     },
     "execution_count": 9,
     "metadata": {},
     "output_type": "execute_result"
    }
   ],
   "source": [
    "merged_data = covid_table.drop('state', axis=1)\n",
    "merged_data = merged_data.groupby('date').sum()\n",
    "merged_data.tail(10)"
   ]
  },
  {
   "cell_type": "code",
   "execution_count": 10,
   "metadata": {},
   "outputs": [
    {
     "data": {
      "image/png": "[encoded data removed]",
      "text/plain": [
       "<Figure size 800x500 with 1 Axes>"
      ]
     },
     "metadata": {},
     "output_type": "display_data"
    }
   ],
   "source": [
    "new_cases = np.diff(merged_data['cases'])\n",
    "dates = np.array(merged_data['cases'].index)\n",
    "plt.figure(figsize=(8,5))\n",
    "plt.plot(dates, merged_data['cases'])\n",
    "plt.xticks(dates[list(np.arange(0, 1000, 100)) + [len(dates)-1]], rotation=90)\n",
    "_ = plt.title('Cumulative cases in the US')"
   ]
  },
  {
   "cell_type": "markdown",
   "metadata": {},
   "source": [
    "### Problem 1.1\n",
    "\n",
    "Let's call April 1, 2021 to May 1, 2021 Period 1. The following code extracts the cumulative cases, deaths, and days during this period\n",
    "\n"
   ]
  },
  {
   "cell_type": "code",
   "execution_count": 11,
   "metadata": {},
   "outputs": [
    {
     "data": {
      "text/html": [
       "<div>\n",
       "<style scoped>\n",
       "    .dataframe tbody tr th:only-of-type {\n",
       "        vertical-align: middle;\n",
       "    }\n",
       "\n",
       "    .dataframe tbody tr th {\n",
       "        vertical-align: top;\n",
       "    }\n",
       "\n",
       "    .dataframe thead th {\n",
       "        text-align: right;\n",
       "    }\n",
       "</style>\n",
       "<table border=\"1\" class=\"dataframe\">\n",
       "  <thead>\n",
       "    <tr style=\"text-align: right;\">\n",
       "      <th></th>\n",
       "      <th>cases</th>\n",
       "      <th>deaths</th>\n",
       "      <th>days</th>\n",
       "    </tr>\n",
       "    <tr>\n",
       "      <th>date</th>\n",
       "      <th></th>\n",
       "      <th></th>\n",
       "      <th></th>\n",
       "    </tr>\n",
       "  </thead>\n",
       "  <tbody>\n",
       "    <tr>\n",
       "      <th>2021-04-01</th>\n",
       "      <td>30556079</td>\n",
       "      <td>552618</td>\n",
       "      <td>1</td>\n",
       "    </tr>\n",
       "    <tr>\n",
       "      <th>2021-04-02</th>\n",
       "      <td>30624668</td>\n",
       "      <td>553574</td>\n",
       "      <td>2</td>\n",
       "    </tr>\n",
       "    <tr>\n",
       "      <th>2021-04-03</th>\n",
       "      <td>30688804</td>\n",
       "      <td>554327</td>\n",
       "      <td>3</td>\n",
       "    </tr>\n",
       "    <tr>\n",
       "      <th>2021-04-04</th>\n",
       "      <td>30725627</td>\n",
       "      <td>554599</td>\n",
       "      <td>4</td>\n",
       "    </tr>\n",
       "    <tr>\n",
       "      <th>2021-04-05</th>\n",
       "      <td>30802221</td>\n",
       "      <td>555129</td>\n",
       "      <td>5</td>\n",
       "    </tr>\n",
       "    <tr>\n",
       "      <th>2021-04-06</th>\n",
       "      <td>30864193</td>\n",
       "      <td>556038</td>\n",
       "      <td>6</td>\n",
       "    </tr>\n",
       "    <tr>\n",
       "      <th>2021-04-07</th>\n",
       "      <td>30937283</td>\n",
       "      <td>558609</td>\n",
       "      <td>7</td>\n",
       "    </tr>\n",
       "    <tr>\n",
       "      <th>2021-04-08</th>\n",
       "      <td>31017741</td>\n",
       "      <td>559611</td>\n",
       "      <td>8</td>\n",
       "    </tr>\n",
       "    <tr>\n",
       "      <th>2021-04-09</th>\n",
       "      <td>31099323</td>\n",
       "      <td>560557</td>\n",
       "      <td>9</td>\n",
       "    </tr>\n",
       "    <tr>\n",
       "      <th>2021-04-10</th>\n",
       "      <td>31164081</td>\n",
       "      <td>561261</td>\n",
       "      <td>10</td>\n",
       "    </tr>\n",
       "  </tbody>\n",
       "</table>\n",
       "</div>"
      ],
      "text/plain": [
       "               cases  deaths  days\n",
       "date                              \n",
       "2021-04-01  30556079  552618     1\n",
       "2021-04-02  30624668  553574     2\n",
       "2021-04-03  30688804  554327     3\n",
       "2021-04-04  30725627  554599     4\n",
       "2021-04-05  30802221  555129     5\n",
       "2021-04-06  30864193  556038     6\n",
       "2021-04-07  30937283  558609     7\n",
       "2021-04-08  31017741  559611     8\n",
       "2021-04-09  31099323  560557     9\n",
       "2021-04-10  31164081  561261    10"
      ]
     },
     "execution_count": 11,
     "metadata": {},
     "output_type": "execute_result"
    }
   ],
   "source": [
    "first_date = '2021-04-01'\n",
    "last_date = '2021-05-01'\n",
    "merged_data_period1 = merged_data[(merged_data['cases'].index >= first_date) & (merged_data['cases'].index <= last_date)]\n",
    "merged_data_period1.insert(2,\"days\",np.arange(len(merged_data_period1))+1)\n",
    "merged_data_period1.head(10)\n"
   ]
  },
  {
   "cell_type": "markdown",
   "metadata": {},
   "source": [
    "#### Problem 1.1.a\n",
    "\n",
    "Visualize the accumulated cases in period 1. You can use any graph you like, such as line plot, scatter plot, and bar plot. The x-axis should be `days`.\n",
    "\n"
   ]
  },
  {
   "cell_type": "code",
   "execution_count": 12,
   "metadata": {
    "scrolled": true
   },
   "outputs": [
    {
     "data": {
      "image/png": "[encoded data removed]",
      "text/plain": [
       "<Figure size 800x500 with 1 Axes>"
      ]
     },
     "metadata": {},
     "output_type": "display_data"
    }
   ],
   "source": [
    "## -- please write code for visualization here. -- ## \n",
    "accumulated_cases = np.diff(merged_data_period1['cases'])\n",
    "dates_period1 = np.array(merged_data_period1['cases'].index)\n",
    "plt.figure(figsize=(8,5))\n",
    "plt.plot(dates_period1, merged_data_period1['cases'])\n",
    "plt.xticks(dates_period1[list(np.arange(0, 30, 1)) + [len(dates_period1)-1]], rotation=90)\n",
    "_ = plt.title('Cumulative cases in the US from April 1 to May 1, 2021')"
   ]
  },
  {
   "cell_type": "markdown",
   "metadata": {},
   "source": [
    "#### Problem 1.1.b\n",
    "\n",
    "Now, calculate the least-squares estimates of the coefficients for the linear model that includes a slope and an intercept: \n",
    "\n",
    "$$\\text{cases}_i = \\beta_0 + \\beta_1 \\text{days}_i + \\epsilon_i$$\n",
    "\n",
    "You may either compute these values with explicit expressions, or use a package such as <code>statsmodels.api.OLS</code>. Use our demo from class as an example, if you wish.\n",
    "\n"
   ]
  },
  {
   "cell_type": "code",
   "execution_count": 13,
   "metadata": {},
   "outputs": [
    {
     "name": "stdout",
     "output_type": "stream",
     "text": [
      "[30583187.31451614, 63065.57903225778]\n"
     ]
    }
   ],
   "source": [
    "## -- please compute linear regression here. -- ## \n",
    "import statsmodels.api as sm\n",
    "x = np.arange(len(merged_data_period1['cases']))\n",
    "X = sm.add_constant(x)\n",
    "model = sm.OLS(merged_data_period1['cases'],X)\n",
    "result = model.fit()\n",
    "beta = [result.params.const, result.params.x1]\n",
    "print(beta)"
   ]
  },
  {
   "cell_type": "markdown",
   "metadata": {},
   "source": [
    "#### Problem 1.1.c \n",
    "\n",
    "Now, plot the data together with the linear fit, shown as a straight line."
   ]
  },
  {
   "cell_type": "code",
   "execution_count": 14,
   "metadata": {},
   "outputs": [
    {
     "data": {
      "image/png": "[encoded data removed]",
      "text/plain": [
       "<Figure size 640x480 with 1 Axes>"
      ]
     },
     "metadata": {},
     "output_type": "display_data"
    }
   ],
   "source": [
    "## -- please write code for your visualization go here -- ## \n",
    "plt.scatter(dates_period1, merged_data_period1['cases'], alpha=.5)\n",
    "_ = plt.xticks(dates_period1[list(np.arange(0, 30, 1)) + [len(dates_period1)-1]], rotation=90)\n",
    "_ = plt.plot(x, beta[0] + beta[1]*x, color='red', linewidth=2)\n",
    "_ = plt.title('Linear Fit: Least Squares Estimate of Period 1 Cases')"
   ]
  },
  {
   "cell_type": "markdown",
   "metadata": {},
   "source": [
    "### Problem 1.2\n",
    "\n",
    "Modify the code in 1.1 to fit and visualize a linear regression model for Period 2, July 1, 2021 to August 1, 2021."
   ]
  },
  {
   "cell_type": "code",
   "execution_count": 15,
   "metadata": {},
   "outputs": [
    {
     "data": {
      "text/html": [
       "<div>\n",
       "<style scoped>\n",
       "    .dataframe tbody tr th:only-of-type {\n",
       "        vertical-align: middle;\n",
       "    }\n",
       "\n",
       "    .dataframe tbody tr th {\n",
       "        vertical-align: top;\n",
       "    }\n",
       "\n",
       "    .dataframe thead th {\n",
       "        text-align: right;\n",
       "    }\n",
       "</style>\n",
       "<table border=\"1\" class=\"dataframe\">\n",
       "  <thead>\n",
       "    <tr style=\"text-align: right;\">\n",
       "      <th></th>\n",
       "      <th>cases</th>\n",
       "      <th>deaths</th>\n",
       "      <th>days</th>\n",
       "    </tr>\n",
       "    <tr>\n",
       "      <th>date</th>\n",
       "      <th></th>\n",
       "      <th></th>\n",
       "      <th></th>\n",
       "    </tr>\n",
       "  </thead>\n",
       "  <tbody>\n",
       "    <tr>\n",
       "      <th>2021-07-01</th>\n",
       "      <td>33704723</td>\n",
       "      <td>604707</td>\n",
       "      <td>1</td>\n",
       "    </tr>\n",
       "    <tr>\n",
       "      <th>2021-07-02</th>\n",
       "      <td>33725159</td>\n",
       "      <td>604973</td>\n",
       "      <td>2</td>\n",
       "    </tr>\n",
       "    <tr>\n",
       "      <th>2021-07-03</th>\n",
       "      <td>33729152</td>\n",
       "      <td>605059</td>\n",
       "      <td>3</td>\n",
       "    </tr>\n",
       "    <tr>\n",
       "      <th>2021-07-04</th>\n",
       "      <td>33732074</td>\n",
       "      <td>605096</td>\n",
       "      <td>4</td>\n",
       "    </tr>\n",
       "    <tr>\n",
       "      <th>2021-07-05</th>\n",
       "      <td>33736665</td>\n",
       "      <td>605137</td>\n",
       "      <td>5</td>\n",
       "    </tr>\n",
       "    <tr>\n",
       "      <th>2021-07-06</th>\n",
       "      <td>33763742</td>\n",
       "      <td>605454</td>\n",
       "      <td>6</td>\n",
       "    </tr>\n",
       "    <tr>\n",
       "      <th>2021-07-07</th>\n",
       "      <td>33793961</td>\n",
       "      <td>605776</td>\n",
       "      <td>7</td>\n",
       "    </tr>\n",
       "    <tr>\n",
       "      <th>2021-07-08</th>\n",
       "      <td>33843194</td>\n",
       "      <td>606142</td>\n",
       "      <td>8</td>\n",
       "    </tr>\n",
       "    <tr>\n",
       "      <th>2021-07-09</th>\n",
       "      <td>33878529</td>\n",
       "      <td>606549</td>\n",
       "      <td>9</td>\n",
       "    </tr>\n",
       "    <tr>\n",
       "      <th>2021-07-10</th>\n",
       "      <td>33886287</td>\n",
       "      <td>606637</td>\n",
       "      <td>10</td>\n",
       "    </tr>\n",
       "  </tbody>\n",
       "</table>\n",
       "</div>"
      ],
      "text/plain": [
       "               cases  deaths  days\n",
       "date                              \n",
       "2021-07-01  33704723  604707     1\n",
       "2021-07-02  33725159  604973     2\n",
       "2021-07-03  33729152  605059     3\n",
       "2021-07-04  33732074  605096     4\n",
       "2021-07-05  33736665  605137     5\n",
       "2021-07-06  33763742  605454     6\n",
       "2021-07-07  33793961  605776     7\n",
       "2021-07-08  33843194  606142     8\n",
       "2021-07-09  33878529  606549     9\n",
       "2021-07-10  33886287  606637    10"
      ]
     },
     "execution_count": 15,
     "metadata": {},
     "output_type": "execute_result"
    }
   ],
   "source": [
    "## -- please put your code to process the data here -- ##\n",
    "first_date = '2021-07-01'\n",
    "last_date = '2021-08-01'\n",
    "merged_data_period2 = merged_data[(merged_data['cases'].index >= first_date) & (merged_data['cases'].index <= last_date)]\n",
    "merged_data_period2.insert(2,\"days\",np.arange(len(merged_data_period2))+1)\n",
    "merged_data_period2.head(10)"
   ]
  },
  {
   "cell_type": "markdown",
   "metadata": {},
   "source": [
    "#### Problem 1.2.a\n",
    "\n",
    "Visualize the data\n"
   ]
  },
  {
   "cell_type": "code",
   "execution_count": 16,
   "metadata": {},
   "outputs": [
    {
     "data": {
      "image/png": "[encoded data removed]",
      "text/plain": [
       "<Figure size 800x500 with 1 Axes>"
      ]
     },
     "metadata": {},
     "output_type": "display_data"
    }
   ],
   "source": [
    "## -- please write code for plotting the data here. --#\n",
    "accumulated_cases = np.diff(merged_data_period2['cases'])\n",
    "dates_period2 = np.array(merged_data_period2['cases'].index)\n",
    "plt.figure(figsize=(8,5))\n",
    "plt.plot(dates_period2, merged_data_period2['cases'])\n",
    "plt.xticks(dates_period2[list(np.arange(0, 30, 1)) + [len(dates_period2)-1]], rotation=90)\n",
    "_ = plt.title('Cumulative cases in the US from July 1 to August 1, 2021')"
   ]
  },
  {
   "cell_type": "markdown",
   "metadata": {},
   "source": [
    "#### Problem 1.2.b\n",
    "\n",
    "Compute a linear regression"
   ]
  },
  {
   "cell_type": "code",
   "execution_count": 17,
   "metadata": {},
   "outputs": [
    {
     "name": "stdout",
     "output_type": "stream",
     "text": [
      "[33524001.545454554, 43574.6059384167]\n"
     ]
    }
   ],
   "source": [
    "## -- please write code for the linear regression and visualization here.-- ## \n",
    "import statsmodels.api as sm\n",
    "x = np.arange(len(merged_data_period2['cases']))\n",
    "X = sm.add_constant(x)\n",
    "model = sm.OLS(merged_data_period2['cases'],X)\n",
    "result = model.fit()\n",
    "beta = [result.params.const, result.params.x1]\n",
    "print(beta)"
   ]
  },
  {
   "cell_type": "markdown",
   "metadata": {},
   "source": [
    "#### Problem 1.2.c\n",
    "\n",
    "Plot the data together with the linear regression here\n"
   ]
  },
  {
   "cell_type": "code",
   "execution_count": 18,
   "metadata": {},
   "outputs": [
    {
     "data": {
      "image/png": "[encoded data removed]",
      "text/plain": [
       "<Figure size 640x480 with 1 Axes>"
      ]
     },
     "metadata": {},
     "output_type": "display_data"
    }
   ],
   "source": [
    "## -- please write the code for your plot here -- ##\n",
    "plt.scatter(dates_period2, merged_data_period2['cases'], alpha=.5)\n",
    "_ = plt.xticks(dates_period2[list(np.arange(0, 30, 1)) + [len(dates_period2)-1]], rotation=90)\n",
    "_ = plt.plot(x, beta[0] + beta[1]*x, color='red', linewidth=2)\n",
    "_ = plt.title('Linear Fit: Least Squares Estimate of Period 2 Cases')"
   ]
  },
  {
   "cell_type": "markdown",
   "metadata": {},
   "source": [
    "### Problem 1.3\n",
    "\n",
    "Compare the linear regression results for 1.1 and 1.2. In which case does the model better fit the data? Please verify your answer *quantitatively*."
   ]
  },
  {
   "cell_type": "markdown",
   "metadata": {},
   "source": [
    "*The model better fits the linear regression results from 1.1. The visualizations indicate this as the points from the first graph appear closer to the red line.\n",
    "Printing beta for the first case yields least squared estimates of [30583187.31451614, 63065.57903225778]. Printing beta for the second case yields least squared estimates of [33524001.545454554, 43574.6059384167]. We can measure the performance using mean squared error, or the average of the squared residuals. The MSE is 4.67 x 10^14 for case 1 and 5.62 x 10^14 for case 2, so the model in 1.1 has a lower margin of error than in 1.2.*\n"
   ]
  },
  {
   "cell_type": "markdown",
   "metadata": {},
   "source": [
    "### Problem 1.4 (Extra credit: 5 points)\n",
    "\n",
    "Repeat problems 1.1, 1.2, and 1.3 but this time using *multiple regression*, regressing the \n",
    "cumulative cases onto the number of days and the cumulative deaths on that day. Thus, each of your regressions should have three parameters: an intercept, a coefficient for days, and a coefficient for deaths. When you visualize the results, plot the predicted number of cases versus days, but use the number of deaths to compute your predicted values."
   ]
  },
  {
   "cell_type": "code",
   "execution_count": 251,
   "metadata": {},
   "outputs": [
    {
     "name": "stdout",
     "output_type": "stream",
     "text": [
      "Period 1 Intercept: 9414395.36445576 \n",
      " Deaths Coefficient: 38.20116627280595 \n",
      " Days Coefficient: 33183.24044102291\n",
      "Period 2 Intercept: -165289601.21686602 \n",
      " Deaths Coefficient: 329.11685136079177 \n",
      " Days Coefficient: -46482.5863613314\n",
      "Mean Squared Error for Period 1: 632319742.3926785\n",
      "Mean Squared Error for Period 2: 3016434099.9203877\n"
     ]
    },
    {
     "data": {
      "image/png": "[encoded data removed]",
      "text/plain": [
       "<Figure size 1000x600 with 1 Axes>"
      ]
     },
     "metadata": {},
     "output_type": "display_data"
    },
    {
     "data": {
      "image/png": "[encoded data removed]",
      "text/plain": [
       "<Figure size 1000x600 with 1 Axes>"
      ]
     },
     "metadata": {},
     "output_type": "display_data"
    }
   ],
   "source": [
    "## -- please write your answer here. -- ## \n",
    "\n",
    "#PERIOD 1\n",
    "import statsmodels.api as sm\n",
    "X = merged_data_period1[['deaths', 'days']]  # Independent variables (deaths and days)\n",
    "X = sm.add_constant(X)  # Add a constant (intercept) term\n",
    "y = merged_data_period1['cases']  # Dependent variable (cumulative cases)\n",
    "\n",
    "model = sm.OLS(y, X)\n",
    "result = model.fit()\n",
    "\n",
    "# Get the regression coefficients\n",
    "beta_const = result.params.const  # Intercept\n",
    "beta_deaths = result.params.deaths  # Coefficient for deaths\n",
    "beta_days = result.params.days  # Coefficient for days\n",
    "\n",
    "print(\"Period 1 Intercept:\", beta_const, \"\\n\", \"Deaths Coefficient:\", beta_deaths, \"\\n\", \"Days Coefficient:\", beta_days)\n",
    "\n",
    "# Compute predicted cases based on deaths and days\n",
    "predicted_cases = beta_const + beta_deaths * merged_data_period1['deaths'] + beta_days * merged_data_period1['days']\n",
    "\n",
    "# Create a scatter plot of observed days versus predicted cases\n",
    "plt.figure(figsize=(10, 6))\n",
    "plt.scatter(merged_data_period1['days'], predicted_cases, label='Predicted Cases', color='blue', alpha=0.7)\n",
    "plt.xlabel('Days')\n",
    "plt.ylabel('Predicted Cases')\n",
    "plt.title('Predicted Cases vs. Days (Based on Deaths)')\n",
    "\n",
    "y_pred_period1 = np.dot(X, np.array([beta_const, beta_deaths, beta_days]))\n",
    "mse_period1 = ((y - y_pred_period1) ** 2).mean()\n",
    "\n",
    "\n",
    "#PERIOD 2\n",
    "X = merged_data_period2[['deaths', 'days']]  # Independent variables (deaths and days)\n",
    "X = sm.add_constant(X)  # Add a constant (intercept) term\n",
    "y = merged_data_period2['cases']  # Dependent variable (cumulative cases)\n",
    "\n",
    "model = sm.OLS(y, X)\n",
    "result = model.fit()\n",
    "\n",
    "# Get the regression coefficients\n",
    "beta_const = result.params.const  # Intercept\n",
    "beta_deaths = result.params.deaths  # Coefficient for deaths\n",
    "beta_days = result.params.days  # Coefficient for days\n",
    "\n",
    "print(\"Period 2 Intercept:\", beta_const, \"\\n\", \"Deaths Coefficient:\", beta_deaths, \"\\n\", \"Days Coefficient:\", beta_days)\n",
    "\n",
    "# Compute predicted cases based on deaths and days\n",
    "predicted_cases = beta_const + beta_deaths * merged_data_period2['deaths'] + beta_days * merged_data_period2['days']\n",
    "\n",
    "# Create a scatter plot of observed days versus predicted cases\n",
    "plt.figure(figsize=(10, 6))\n",
    "plt.scatter(merged_data_period2['days'], predicted_cases, label='Predicted Cases', color='blue', alpha=0.7)\n",
    "plt.xlabel('Days')\n",
    "plt.ylabel('Predicted Cases')\n",
    "plt.title('Predicted Cases vs. Days (Based on Deaths)')\n",
    "\n",
    "y_pred_period2 = np.dot(X, np.array([beta_const, beta_deaths, beta_days]))\n",
    "mse_period2 = ((y - y_pred_period2) ** 2).mean()\n",
    "\n",
    "print('Mean Squared Error for Period 1:', mse_period1)\n",
    "print('Mean Squared Error for Period 2:', mse_period2)"
   ]
  },
  {
   "cell_type": "markdown",
   "metadata": {},
   "source": [
    "*As seen in the above Mean Squared error calculations for both periods, the model is a better fit for the time period in 1.1. Period 1 has a much smaller MSE value than Period 2, so it has a smaller margin of error.*"
   ]
  },
  {
   "cell_type": "code",
   "execution_count": 20,
   "metadata": {},
   "outputs": [],
   "source": [
    "%matplotlib inline  \n",
    "import pandas as pd\n",
    "import numpy as np\n",
    "import matplotlib.pyplot as plt\n",
    "import dateutil\n",
    "import random\n",
    "import math"
   ]
  },
  {
   "cell_type": "markdown",
   "metadata": {},
   "source": [
    "## Problem 2: Romance vs. Action (30 points)\n",
    "\n",
    "Credit: Data 8\n",
    "\n",
    "### Part 1. Exploring the dataset\n",
    "\n",
    "In this problem, we will try to predict\n",
    "a movie's genre from the text of its screenplay. We have compiled a list of 5,000 words that occur in conversations between movie characters. For each movie, our dataset tells us the frequency with which each of these words occurs in certain conversations in its screenplay. All words have been converted to lowercase.\n",
    "\n",
    "Run the cell below to read the `movies` table. It may take up a minute or so to load."
   ]
  },
  {
   "cell_type": "code",
   "execution_count": 21,
   "metadata": {},
   "outputs": [
    {
     "data": {
      "text/html": [
       "<div>\n",
       "<style scoped>\n",
       "    .dataframe tbody tr th:only-of-type {\n",
       "        vertical-align: middle;\n",
       "    }\n",
       "\n",
       "    .dataframe tbody tr th {\n",
       "        vertical-align: top;\n",
       "    }\n",
       "\n",
       "    .dataframe thead th {\n",
       "        text-align: right;\n",
       "    }\n",
       "</style>\n",
       "<table border=\"1\" class=\"dataframe\">\n",
       "  <thead>\n",
       "    <tr style=\"text-align: right;\">\n",
       "      <th></th>\n",
       "      <th>Title</th>\n",
       "      <th>Genre</th>\n",
       "      <th>Year</th>\n",
       "      <th>Rating</th>\n",
       "      <th># Votes</th>\n",
       "      <th># Words</th>\n",
       "      <th>i</th>\n",
       "      <th>the</th>\n",
       "      <th>to</th>\n",
       "      <th>a</th>\n",
       "      <th>...</th>\n",
       "      <th>foster</th>\n",
       "      <th>pub</th>\n",
       "      <th>vegetarian</th>\n",
       "      <th>garrison</th>\n",
       "      <th>grammoo</th>\n",
       "      <th>chimney</th>\n",
       "      <th>bikini</th>\n",
       "      <th>richter</th>\n",
       "      <th>psychopath</th>\n",
       "      <th>fling</th>\n",
       "    </tr>\n",
       "  </thead>\n",
       "  <tbody>\n",
       "    <tr>\n",
       "      <th>0</th>\n",
       "      <td>the terminator</td>\n",
       "      <td>action</td>\n",
       "      <td>1984</td>\n",
       "      <td>8.1</td>\n",
       "      <td>183538</td>\n",
       "      <td>1849</td>\n",
       "      <td>0.040022</td>\n",
       "      <td>0.043807</td>\n",
       "      <td>0.025419</td>\n",
       "      <td>0.024878</td>\n",
       "      <td>...</td>\n",
       "      <td>0.0</td>\n",
       "      <td>0.0</td>\n",
       "      <td>0.0</td>\n",
       "      <td>0.0</td>\n",
       "      <td>0.0</td>\n",
       "      <td>0.0</td>\n",
       "      <td>0.0</td>\n",
       "      <td>0.0</td>\n",
       "      <td>0.000000</td>\n",
       "      <td>0.0</td>\n",
       "    </tr>\n",
       "    <tr>\n",
       "      <th>1</th>\n",
       "      <td>batman</td>\n",
       "      <td>action</td>\n",
       "      <td>1989</td>\n",
       "      <td>7.6</td>\n",
       "      <td>112731</td>\n",
       "      <td>2836</td>\n",
       "      <td>0.051481</td>\n",
       "      <td>0.033850</td>\n",
       "      <td>0.023977</td>\n",
       "      <td>0.028209</td>\n",
       "      <td>...</td>\n",
       "      <td>0.0</td>\n",
       "      <td>0.0</td>\n",
       "      <td>0.0</td>\n",
       "      <td>0.0</td>\n",
       "      <td>0.0</td>\n",
       "      <td>0.0</td>\n",
       "      <td>0.0</td>\n",
       "      <td>0.0</td>\n",
       "      <td>0.000000</td>\n",
       "      <td>0.0</td>\n",
       "    </tr>\n",
       "    <tr>\n",
       "      <th>2</th>\n",
       "      <td>tomorrow never dies</td>\n",
       "      <td>action</td>\n",
       "      <td>1997</td>\n",
       "      <td>6.4</td>\n",
       "      <td>47198</td>\n",
       "      <td>4215</td>\n",
       "      <td>0.028707</td>\n",
       "      <td>0.054330</td>\n",
       "      <td>0.030368</td>\n",
       "      <td>0.021827</td>\n",
       "      <td>...</td>\n",
       "      <td>0.0</td>\n",
       "      <td>0.0</td>\n",
       "      <td>0.0</td>\n",
       "      <td>0.0</td>\n",
       "      <td>0.0</td>\n",
       "      <td>0.0</td>\n",
       "      <td>0.0</td>\n",
       "      <td>0.0</td>\n",
       "      <td>0.000237</td>\n",
       "      <td>0.0</td>\n",
       "    </tr>\n",
       "    <tr>\n",
       "      <th>3</th>\n",
       "      <td>batman forever</td>\n",
       "      <td>action</td>\n",
       "      <td>1995</td>\n",
       "      <td>5.4</td>\n",
       "      <td>77223</td>\n",
       "      <td>3032</td>\n",
       "      <td>0.036609</td>\n",
       "      <td>0.042216</td>\n",
       "      <td>0.020449</td>\n",
       "      <td>0.031003</td>\n",
       "      <td>...</td>\n",
       "      <td>0.0</td>\n",
       "      <td>0.0</td>\n",
       "      <td>0.0</td>\n",
       "      <td>0.0</td>\n",
       "      <td>0.0</td>\n",
       "      <td>0.0</td>\n",
       "      <td>0.0</td>\n",
       "      <td>0.0</td>\n",
       "      <td>0.000000</td>\n",
       "      <td>0.0</td>\n",
       "    </tr>\n",
       "    <tr>\n",
       "      <th>4</th>\n",
       "      <td>supergirl</td>\n",
       "      <td>action</td>\n",
       "      <td>1984</td>\n",
       "      <td>4.1</td>\n",
       "      <td>6576</td>\n",
       "      <td>3842</td>\n",
       "      <td>0.041905</td>\n",
       "      <td>0.032275</td>\n",
       "      <td>0.028891</td>\n",
       "      <td>0.026288</td>\n",
       "      <td>...</td>\n",
       "      <td>0.0</td>\n",
       "      <td>0.0</td>\n",
       "      <td>0.0</td>\n",
       "      <td>0.0</td>\n",
       "      <td>0.0</td>\n",
       "      <td>0.0</td>\n",
       "      <td>0.0</td>\n",
       "      <td>0.0</td>\n",
       "      <td>0.000000</td>\n",
       "      <td>0.0</td>\n",
       "    </tr>\n",
       "    <tr>\n",
       "      <th>5</th>\n",
       "      <td>the avengers</td>\n",
       "      <td>action</td>\n",
       "      <td>1998</td>\n",
       "      <td>3.4</td>\n",
       "      <td>21519</td>\n",
       "      <td>3586</td>\n",
       "      <td>0.036810</td>\n",
       "      <td>0.033463</td>\n",
       "      <td>0.024819</td>\n",
       "      <td>0.029002</td>\n",
       "      <td>...</td>\n",
       "      <td>0.0</td>\n",
       "      <td>0.0</td>\n",
       "      <td>0.0</td>\n",
       "      <td>0.0</td>\n",
       "      <td>0.0</td>\n",
       "      <td>0.0</td>\n",
       "      <td>0.0</td>\n",
       "      <td>0.0</td>\n",
       "      <td>0.000279</td>\n",
       "      <td>0.0</td>\n",
       "    </tr>\n",
       "    <tr>\n",
       "      <th>6</th>\n",
       "      <td>natural born killers</td>\n",
       "      <td>action</td>\n",
       "      <td>1994</td>\n",
       "      <td>7.1</td>\n",
       "      <td>73047</td>\n",
       "      <td>5129</td>\n",
       "      <td>0.028271</td>\n",
       "      <td>0.047378</td>\n",
       "      <td>0.022032</td>\n",
       "      <td>0.027296</td>\n",
       "      <td>...</td>\n",
       "      <td>0.0</td>\n",
       "      <td>0.0</td>\n",
       "      <td>0.0</td>\n",
       "      <td>0.0</td>\n",
       "      <td>0.0</td>\n",
       "      <td>0.0</td>\n",
       "      <td>0.0</td>\n",
       "      <td>0.0</td>\n",
       "      <td>0.000000</td>\n",
       "      <td>0.0</td>\n",
       "    </tr>\n",
       "    <tr>\n",
       "      <th>7</th>\n",
       "      <td>airplane ii: the sequel</td>\n",
       "      <td>romance</td>\n",
       "      <td>1982</td>\n",
       "      <td>5.8</td>\n",
       "      <td>15210</td>\n",
       "      <td>2328</td>\n",
       "      <td>0.027921</td>\n",
       "      <td>0.048969</td>\n",
       "      <td>0.035223</td>\n",
       "      <td>0.025773</td>\n",
       "      <td>...</td>\n",
       "      <td>0.0</td>\n",
       "      <td>0.0</td>\n",
       "      <td>0.0</td>\n",
       "      <td>0.0</td>\n",
       "      <td>0.0</td>\n",
       "      <td>0.0</td>\n",
       "      <td>0.0</td>\n",
       "      <td>0.0</td>\n",
       "      <td>0.000000</td>\n",
       "      <td>0.0</td>\n",
       "    </tr>\n",
       "    <tr>\n",
       "      <th>8</th>\n",
       "      <td>willow</td>\n",
       "      <td>romance</td>\n",
       "      <td>1988</td>\n",
       "      <td>7.1</td>\n",
       "      <td>33506</td>\n",
       "      <td>2006</td>\n",
       "      <td>0.038883</td>\n",
       "      <td>0.028913</td>\n",
       "      <td>0.030409</td>\n",
       "      <td>0.030409</td>\n",
       "      <td>...</td>\n",
       "      <td>0.0</td>\n",
       "      <td>0.0</td>\n",
       "      <td>0.0</td>\n",
       "      <td>0.0</td>\n",
       "      <td>0.0</td>\n",
       "      <td>0.0</td>\n",
       "      <td>0.0</td>\n",
       "      <td>0.0</td>\n",
       "      <td>0.000000</td>\n",
       "      <td>0.0</td>\n",
       "    </tr>\n",
       "    <tr>\n",
       "      <th>9</th>\n",
       "      <td>fast times at ridgemont high</td>\n",
       "      <td>romance</td>\n",
       "      <td>1982</td>\n",
       "      <td>7.2</td>\n",
       "      <td>31710</td>\n",
       "      <td>4703</td>\n",
       "      <td>0.047629</td>\n",
       "      <td>0.027217</td>\n",
       "      <td>0.030619</td>\n",
       "      <td>0.018711</td>\n",
       "      <td>...</td>\n",
       "      <td>0.0</td>\n",
       "      <td>0.0</td>\n",
       "      <td>0.0</td>\n",
       "      <td>0.0</td>\n",
       "      <td>0.0</td>\n",
       "      <td>0.0</td>\n",
       "      <td>0.0</td>\n",
       "      <td>0.0</td>\n",
       "      <td>0.000000</td>\n",
       "      <td>0.0</td>\n",
       "    </tr>\n",
       "  </tbody>\n",
       "</table>\n",
       "<p>10 rows × 5006 columns</p>\n",
       "</div>"
      ],
      "text/plain": [
       "                          Title    Genre  Year  Rating  # Votes  # Words  \\\n",
       "0                the terminator   action  1984     8.1   183538     1849   \n",
       "1                        batman   action  1989     7.6   112731     2836   \n",
       "2           tomorrow never dies   action  1997     6.4    47198     4215   \n",
       "3                batman forever   action  1995     5.4    77223     3032   \n",
       "4                     supergirl   action  1984     4.1     6576     3842   \n",
       "5                  the avengers   action  1998     3.4    21519     3586   \n",
       "6          natural born killers   action  1994     7.1    73047     5129   \n",
       "7       airplane ii: the sequel  romance  1982     5.8    15210     2328   \n",
       "8                        willow  romance  1988     7.1    33506     2006   \n",
       "9  fast times at ridgemont high  romance  1982     7.2    31710     4703   \n",
       "\n",
       "          i       the        to         a  ...  foster  pub  vegetarian  \\\n",
       "0  0.040022  0.043807  0.025419  0.024878  ...     0.0  0.0         0.0   \n",
       "1  0.051481  0.033850  0.023977  0.028209  ...     0.0  0.0         0.0   \n",
       "2  0.028707  0.054330  0.030368  0.021827  ...     0.0  0.0         0.0   \n",
       "3  0.036609  0.042216  0.020449  0.031003  ...     0.0  0.0         0.0   \n",
       "4  0.041905  0.032275  0.028891  0.026288  ...     0.0  0.0         0.0   \n",
       "5  0.036810  0.033463  0.024819  0.029002  ...     0.0  0.0         0.0   \n",
       "6  0.028271  0.047378  0.022032  0.027296  ...     0.0  0.0         0.0   \n",
       "7  0.027921  0.048969  0.035223  0.025773  ...     0.0  0.0         0.0   \n",
       "8  0.038883  0.028913  0.030409  0.030409  ...     0.0  0.0         0.0   \n",
       "9  0.047629  0.027217  0.030619  0.018711  ...     0.0  0.0         0.0   \n",
       "\n",
       "   garrison  grammoo  chimney  bikini  richter  psychopath  fling  \n",
       "0       0.0      0.0      0.0     0.0      0.0    0.000000    0.0  \n",
       "1       0.0      0.0      0.0     0.0      0.0    0.000000    0.0  \n",
       "2       0.0      0.0      0.0     0.0      0.0    0.000237    0.0  \n",
       "3       0.0      0.0      0.0     0.0      0.0    0.000000    0.0  \n",
       "4       0.0      0.0      0.0     0.0      0.0    0.000000    0.0  \n",
       "5       0.0      0.0      0.0     0.0      0.0    0.000279    0.0  \n",
       "6       0.0      0.0      0.0     0.0      0.0    0.000000    0.0  \n",
       "7       0.0      0.0      0.0     0.0      0.0    0.000000    0.0  \n",
       "8       0.0      0.0      0.0     0.0      0.0    0.000000    0.0  \n",
       "9       0.0      0.0      0.0     0.0      0.0    0.000000    0.0  \n",
       "\n",
       "[10 rows x 5006 columns]"
      ]
     },
     "execution_count": 21,
     "metadata": {},
     "output_type": "execute_result"
    }
   ],
   "source": [
    "movies = pd.read_csv('https://github.com/YData123/sds265-fa22/raw/master/assignments/assn1/movies.csv')\n",
    "movies.head(10)"
   ]
  },
  {
   "cell_type": "code",
   "execution_count": 22,
   "metadata": {},
   "outputs": [
    {
     "data": {
      "text/plain": [
       "Title      the matrix\n",
       "Genre          action\n",
       "Year             1999\n",
       "Rating            8.7\n",
       "# Votes        389480\n",
       "# Words          3792\n",
       "it           0.030327\n",
       "not          0.008703\n",
       "fling             0.0\n",
       "Name: 123, dtype: object"
      ]
     },
     "execution_count": 22,
     "metadata": {},
     "output_type": "execute_result"
    }
   ],
   "source": [
    "movies.iloc[123,[0, 1, 2, 3, 4, 5, 10, 30, 5005]]"
   ]
  },
  {
   "cell_type": "markdown",
   "metadata": {},
   "source": [
    "The above cell prints a few columns of the row for the action movie *The Matrix*.  The movie contains 3792 words. The word \"it\" appears 115 times, as it makes up a fraction $\\frac{115}{3792} \\approx 0.030327$ of the words in the movie. The word \"not\" appears 33 times, as it makes up a fraction $\\frac{33}{3792} \\approx 0.00870253$ of the words. The word \"fling\" doesn't appear at all.\n",
    "\n",
    "This numerical representation of a body of text, one that describes only the frequencies of individual words, is called a bag-of-words representation. A lot of information is discarded in this representation: the order of the words, the context of each word, who said what, the cast of characters and actors, etc. However, a bag-of-words representation is often used for machine learning applications as a reasonable starting point, because a great deal of information is also retained and expressed in a convenient and compact format. We will investigate whether this representation is sufficient to build an accurate genre classifier."
   ]
  },
  {
   "cell_type": "markdown",
   "metadata": {},
   "source": [
    "All movie titles are unique. The `row_for_title` function provides fast access to the one row for each title. "
   ]
  },
  {
   "cell_type": "code",
   "execution_count": 23,
   "metadata": {},
   "outputs": [],
   "source": [
    "def row_for_title(title):\n",
    "    \"\"\"Return the row for a title\n",
    "    \n",
    "    \"\"\"\n",
    "    return movies[movies[\"Title\"]==title]"
   ]
  },
  {
   "cell_type": "markdown",
   "metadata": {},
   "source": [
    "For example, the fastest way to find the frequency of \"hey\" in the movie *The Terminator* is to access the `'hey'` item from its row. Check the original table to see if this worked for you!"
   ]
  },
  {
   "cell_type": "code",
   "execution_count": 24,
   "metadata": {},
   "outputs": [
    {
     "data": {
      "text/plain": [
       "0.000540833"
      ]
     },
     "execution_count": 24,
     "metadata": {},
     "output_type": "execute_result"
    }
   ],
   "source": [
    "row_for_title('the terminator')[\"hey\"].item()"
   ]
  },
  {
   "cell_type": "markdown",
   "metadata": {},
   "source": [
    "This dataset was extracted from [a dataset from Cornell University](http://www.cs.cornell.edu/~cristian/Cornell_Movie-Dialogs_Corpus.html). After transforming the dataset (e.g., converting the words to lowercase, removing profanity, and converting the counts to frequencies), this new dataset was created containing the frequency of 5000 common words in each movie."
   ]
  },
  {
   "cell_type": "code",
   "execution_count": 25,
   "metadata": {},
   "outputs": [
    {
     "name": "stdout",
     "output_type": "stream",
     "text": [
      "Words with frequencies: 5000\n",
      "Movies with genres: 236\n"
     ]
    }
   ],
   "source": [
    "print('Words with frequencies:', len(movies.drop(movies.columns[np.arange(6)],axis=1).columns)) \n",
    "print('Movies with genres:', len(movies))"
   ]
  },
  {
   "cell_type": "markdown",
   "metadata": {},
   "source": [
    "**Word Stemming**\n",
    "\n",
    "The columns other than \"Title\", \"Genre\", \"Year\", \"Rating\", \"# Votes\" and \"# Words\" in the `movies` table are all words that appear in some of the movies in our dataset.  These words have been *stemmed*, or abbreviated heuristically, in an attempt to make different [inflected](https://en.wikipedia.org/wiki/Inflection) forms of the same base word into the same string.  For example, the column \"manag\" is the sum of proportions of the words \"manage\", \"manager\", \"managed\", and \"managerial\" (and perhaps others) in each movie. This is a common technique used in machine learning and natural language processing.\n",
    "\n",
    "Stemming makes it a little tricky to search for the words you want to use, so we have provided another table that will let you see examples of unstemmed versions of each stemmed word.  Run the code below to load it."
   ]
  },
  {
   "cell_type": "code",
   "execution_count": 26,
   "metadata": {},
   "outputs": [
    {
     "data": {
      "text/html": [
       "<div>\n",
       "<style scoped>\n",
       "    .dataframe tbody tr th:only-of-type {\n",
       "        vertical-align: middle;\n",
       "    }\n",
       "\n",
       "    .dataframe tbody tr th {\n",
       "        vertical-align: top;\n",
       "    }\n",
       "\n",
       "    .dataframe thead th {\n",
       "        text-align: right;\n",
       "    }\n",
       "</style>\n",
       "<table border=\"1\" class=\"dataframe\">\n",
       "  <thead>\n",
       "    <tr style=\"text-align: right;\">\n",
       "      <th></th>\n",
       "      <th>Stem</th>\n",
       "      <th>Word</th>\n",
       "    </tr>\n",
       "  </thead>\n",
       "  <tbody>\n",
       "    <tr>\n",
       "      <th>25957</th>\n",
       "      <td>coloni</td>\n",
       "      <td>colonial</td>\n",
       "    </tr>\n",
       "    <tr>\n",
       "      <th>10851</th>\n",
       "      <td>coloni</td>\n",
       "      <td>colony</td>\n",
       "    </tr>\n",
       "    <tr>\n",
       "      <th>32608</th>\n",
       "      <td>coloni</td>\n",
       "      <td>colonies</td>\n",
       "    </tr>\n",
       "    <tr>\n",
       "      <th>2245</th>\n",
       "      <td>coloni</td>\n",
       "      <td>colonys</td>\n",
       "    </tr>\n",
       "    <tr>\n",
       "      <th>12087</th>\n",
       "      <td>columbia</td>\n",
       "      <td>columbia</td>\n",
       "    </tr>\n",
       "    <tr>\n",
       "      <th>37766</th>\n",
       "      <td>columbia</td>\n",
       "      <td>columbias</td>\n",
       "    </tr>\n",
       "    <tr>\n",
       "      <th>19615</th>\n",
       "      <td>column</td>\n",
       "      <td>column</td>\n",
       "    </tr>\n",
       "    <tr>\n",
       "      <th>1523</th>\n",
       "      <td>column</td>\n",
       "      <td>columns</td>\n",
       "    </tr>\n",
       "    <tr>\n",
       "      <th>12629</th>\n",
       "      <td>com</td>\n",
       "      <td>com</td>\n",
       "    </tr>\n",
       "    <tr>\n",
       "      <th>38458</th>\n",
       "      <td>coma</td>\n",
       "      <td>coma</td>\n",
       "    </tr>\n",
       "  </tbody>\n",
       "</table>\n",
       "</div>"
      ],
      "text/plain": [
       "           Stem       Word\n",
       "25957    coloni   colonial\n",
       "10851    coloni     colony\n",
       "32608    coloni   colonies\n",
       "2245     coloni    colonys\n",
       "12087  columbia   columbia\n",
       "37766  columbia  columbias\n",
       "19615    column     column\n",
       "1523     column    columns\n",
       "12629       com        com\n",
       "38458      coma       coma"
      ]
     },
     "execution_count": 26,
     "metadata": {},
     "output_type": "execute_result"
    }
   ],
   "source": [
    "# Just run this cell.\n",
    "vocab_mapping = pd.read_csv('https://github.com/YData123/sds265-fa22/raw/master/assignments/assn1/stem.csv')\n",
    "stemmed = list(movies.drop(movies.columns[np.arange(6)],axis=1).columns)\n",
    "vocab_table = vocab_mapping[vocab_mapping[\"Stem\"].isin(stemmed)]\n",
    "vocab_table = vocab_table.sort_values('Stem')\n",
    "vocab_table.iloc[np.arange(2000, 2010)]"
   ]
  },
  {
   "cell_type": "markdown",
   "metadata": {},
   "source": [
    "### Problem 2.1.a:\n",
    "\n",
    "Assign `stemmed_alternating` to the stemmed version of the word \"alternating\"."
   ]
  },
  {
   "cell_type": "code",
   "execution_count": 27,
   "metadata": {},
   "outputs": [
    {
     "data": {
      "text/plain": [
       "['altern']"
      ]
     },
     "execution_count": 27,
     "metadata": {},
     "output_type": "execute_result"
    }
   ],
   "source": [
    "# Set stemmed_alternating to the stemmed version of \"alternating\" (which\n",
    "# should be a string).  Use vocab_table.\n",
    "stemmed_alternating = [str(word) for word in vocab_table.loc[vocab_table['Word'] == \"alternating\", 'Stem']]\n",
    "stemmed_alternating"
   ]
  },
  {
   "cell_type": "markdown",
   "metadata": {},
   "source": [
    "### Problem 2.1.b:\n",
    "\n",
    "Assign `unstemmed_run` to an array of words in `vocab_table` that have \"run\" as its stemmed form. "
   ]
  },
  {
   "cell_type": "code",
   "execution_count": 28,
   "metadata": {},
   "outputs": [
    {
     "data": {
      "text/plain": [
       "['run', 'runs', 'running', 'runnings', 'runned']"
      ]
     },
     "execution_count": 28,
     "metadata": {},
     "output_type": "execute_result"
    }
   ],
   "source": [
    "# Set unstemmed_run to the unstemmed versions of \"run\" (which\n",
    "# should be an array of string).\n",
    "unstemmed_run = [str(word) for word in vocab_table.loc[vocab_table['Stem'] == \"run\", 'Word']]\n",
    "unstemmed_run"
   ]
  },
  {
   "cell_type": "markdown",
   "metadata": {},
   "source": [
    "**Splitting the dataset**\n",
    "\n",
    "We're going to use our `movies` dataset for two purposes.\n",
    "\n",
    "1. First, we want to *train* a movie genre classifier.\n",
    "2. Second, we want to *test* the performance of the classifier.\n",
    "\n",
    "So, we need two different datasets: *training* and *test*.\n",
    "\n",
    "The purpose of a classifier is to classify unseen data that is similar to the training data. Therefore, we must ensure that there are no movies that appear in both sets. We do so by splitting the dataset randomly. The dataset has already been permuted randomly, so it's easy to split.  We just take the top for training and the rest for test. \n",
    "\n",
    "Run the code below (without changing it) to separate the datasets into two tables."
   ]
  },
  {
   "cell_type": "code",
   "execution_count": 29,
   "metadata": {},
   "outputs": [
    {
     "name": "stdout",
     "output_type": "stream",
     "text": [
      "Training:  200 ; Test:  36\n"
     ]
    }
   ],
   "source": [
    "# Here we have defined the proportion of our data\n",
    "# that we want to designate for training as 17/20ths\n",
    "# of our total dataset.  3/20ths of the data is\n",
    "# reserved for testing.\n",
    "\n",
    "training_proportion = 17/20\n",
    "\n",
    "num_movies = len(movies)\n",
    "num_train = int(num_movies * training_proportion)\n",
    "num_test = num_movies - num_train\n",
    "\n",
    "train_movies = movies.iloc[np.arange(num_train)]\n",
    "test_movies = movies.iloc[np.arange(num_train, num_movies)]\n",
    "\n",
    "print(\"Training: \",   len(train_movies), \";\",\n",
    "      \"Test: \",       len(test_movies))"
   ]
  },
  {
   "cell_type": "markdown",
   "metadata": {},
   "source": [
    "### Problem 2.1.c:\n",
    "\n",
    "Draw a horizontal bar chart with two bars that show the proportion of Action movies in each dataset.  Complete the function `action_proportion` first; it should help you create the bar chart."
   ]
  },
  {
   "cell_type": "code",
   "execution_count": 30,
   "metadata": {
    "scrolled": true
   },
   "outputs": [
    {
     "name": "stdout",
     "output_type": "stream",
     "text": [
      "[0.56]\n",
      "[0.5555555555555556]\n"
     ]
    },
    {
     "data": {
      "text/plain": [
       "<BarContainer object of 2 artists>"
      ]
     },
     "execution_count": 30,
     "metadata": {},
     "output_type": "execute_result"
    },
    {
     "data": {
      "image/png": "[encoded data removed]",
      "text/plain": [
       "<Figure size 1000x500 with 1 Axes>"
      ]
     },
     "metadata": {},
     "output_type": "display_data"
    }
   ],
   "source": [
    "def action_proportion(dataframe):\n",
    "    \"\"\"Return the proportion of movies in a table that have the Action genre.\"\"\"\n",
    "    return [len(dataframe[dataframe['Genre'] == \"action\"])/len(dataframe['Genre'])]\n",
    "\n",
    "print(action_proportion(train_movies))\n",
    "print(action_proportion(test_movies))\n",
    "\n",
    "data = {'Training': action_proportion(train_movies), 'Test': action_proportion(test_movies)}\n",
    "#print(data.keys)\n",
    "dataset = list(data.keys())\n",
    "#print(dataset)\n",
    "proportion = list(data.values())\n",
    "#print(proportion)\n",
    "proportion = [i[0] for i in proportion]\n",
    "#print(proportion)\n",
    "plt.figure(figsize=(10,5))\n",
    "plt.barh(dataset, proportion, color='turquoise', alpha=.45)\n"
   ]
  },
  {
   "cell_type": "markdown",
   "metadata": {},
   "source": [
    "### Part 2. K-Nearest Neighbors: A guided example\n",
    "\n",
    "k-Nearest Neighbors (k-NN) is a classification algorithm.  Given some *attributes* (also called *features*) of an unseen example, it decides whether that example belongs to one or the other of two categories based on its similarity to previously seen examples. Predicting the category of an example is called *labeling*, and the predicted category is also called a *label*.\n",
    "\n",
    "An attribute (feature) we have about each movie is *the proportion of times a particular word appears in the movies*, and the labels are two movie genres: romance and action.  The algorithm requires many previously seen examples for which both the attributes and labels are known: that's the `train_movies` dataframe.\n",
    "\n",
    "To build understanding, we're going to visualize the algorithm instead of just describing it."
   ]
  },
  {
   "cell_type": "markdown",
   "metadata": {},
   "source": [
    "**Classifying a movie**\n",
    "\n",
    "In k-NN, we classify a movie by finding the `k` movies in the *training set* that are most similar according to the features we choose. We call those movies with similar features the *nearest neighbors*.  The k-NN algorithm assigns the movie to the most common category among its `k` nearest neighbors.\n",
    "\n",
    "Let's limit ourselves to just 2 features for now, so we can plot each movie.  The features we will use are the proportions of the words \"money\" and \"feel\" in the movie.  Taking the movie \"Batman Returns\" (in the test set), 0.000502 of its words are \"money\" and 0.004016 are \"feel\". This movie appears in the test set, so let's imagine that we don't yet know its genre.\n",
    "\n",
    "First, we need to make our notion of similarity more precise.  We will say that the *distance* between two movies is the straight-line distance between them when we plot their features in a scatter diagram. This distance is called the Euclidean (\"yoo-KLID-ee-un\") distance, whose formula is $\\sqrt{(x_1 - x_2)^2 + (y_1 - y_2)^2}$.\n",
    "\n",
    "For example, in the movie *Titanic* (in the training set), 0.0009768 of all the words in the movie are \"money\" and 0.0017094 are \"feel\".  Its distance from *Batman Returns* on this 2-word feature set is $$\\sqrt{(0.000502 - 0.0009768)^2 + (0.004016 - 0.0017094)^2} \\approx 0.00235496.$$  (If we included more or different features, the distance could be different.)\n",
    "\n",
    "A third movie, *The Avengers* (in the training set), is 0 \"money\" and 0.001115 \"feel\".\n",
    "\n",
    "The function below creates a plot to display the \"money\" and \"feel\" features of a test movie and some training movies. As you can see in the result, *Batman Returns* is more similar to *Titanic* than to *The Avengers* based on these features. However, we know that *Batman Returns* and *The Avengers* are both action movies, so intuitively we'd expect them to be more similar. Unfortunately, that isn't always the case. We'll discuss this more later."
   ]
  },
  {
   "cell_type": "code",
   "execution_count": 31,
   "metadata": {},
   "outputs": [
    {
     "data": {
      "image/png": "[encoded data removed]",
      "text/plain": [
       "<Figure size 640x480 with 1 Axes>"
      ]
     },
     "metadata": {},
     "output_type": "display_data"
    }
   ],
   "source": [
    "# Just run this cell.\n",
    "def plot_embeddings(M_reduced, word2Ind, words):\n",
    "    \"\"\" \n",
    "        Plot in a scatterplot the embeddings of the words specified in the list \"words\".\n",
    "        Include a label next to each point.\n",
    "    \"\"\"\n",
    "    for word in words:\n",
    "        x, y = M_reduced[word2Ind[word]]\n",
    "        plt.scatter(x, y, marker='x', color='red')\n",
    "        plt.text(x+.03, y+.03, word, fontsize=9)\n",
    "    plt.show()\n",
    "\n",
    "M_reduced_plot_test = np.array([[1, 1], [-1, -1], [1, -1], [-1, 1], [0, 0]])\n",
    "word2Ind_plot_test = {'test1': 0, 'test2': 1, 'test3': 2, 'test4': 3, 'test5': 4}\n",
    "words = ['test1', 'test2', 'test3', 'test4', 'test5']\n",
    "plot_embeddings(M_reduced_plot_test, word2Ind_plot_test, words)"
   ]
  },
  {
   "cell_type": "code",
   "execution_count": 32,
   "metadata": {},
   "outputs": [
    {
     "data": {
      "image/png": "[encoded data removed]",
      "text/plain": [
       "<Figure size 1200x800 with 1 Axes>"
      ]
     },
     "metadata": {},
     "output_type": "display_data"
    }
   ],
   "source": [
    "# Just run this cell.\n",
    "def plot_with_two_features(test_movie, training_movies, x_feature, y_feature):\n",
    "    \"\"\"Plot a test movie and training movies using two features.\"\"\"\n",
    "    test_row = row_for_title(test_movie)\n",
    "    test_x = test_row[x_feature].item()\n",
    "    test_y = test_row[y_feature].item()\n",
    "    plt.scatter(test_x, test_y, s=100)\n",
    "    plt.text(test_x, test_y+.0005, test_movie, fontsize=20)\n",
    "    for movie in training_movies:\n",
    "        row = row_for_title(movie)\n",
    "        train_x = row[x_feature].item()\n",
    "        train_y = row[y_feature].item()\n",
    "        plt.scatter(train_x, train_y, s=100)\n",
    "        plt.text(train_x, train_y+.0005, movie, fontsize=20)\n",
    "    plt.show()\n",
    "    \n",
    "plt.figure(figsize=(12, 8))\n",
    "plt.xlim(-0.0005, 0.002)\n",
    "plt.ylim(-0.001, 0.006)\n",
    "plt.xlabel('money', fontsize=25)\n",
    "plt.ylabel('feel', fontsize=25)\n",
    "\n",
    "training = [\"titanic\", \"the avengers\"]\n",
    "plot_with_two_features(\"batman returns\", training, \"money\", \"feel\")"
   ]
  },
  {
   "cell_type": "markdown",
   "metadata": {},
   "source": [
    "### Problem 2.2.a:\n",
    "\n",
    "Compute the distance between the two action movies, *Batman Returns* and *The Avengers*, using the `money` and `feel` features only.  Assign it the name `action_distance`.\n",
    "\n",
    "**Note:** If you have a row, you can use `item` to get a value from a column by its name.  For example, if `r` is a row, then `r[\"Genre\"].item()` is the value in column `\"Genre\"` in row `r`.\n",
    "\n",
    "*Hint*: Remember the function `row_for_title`, redefined for you below. "
   ]
  },
  {
   "cell_type": "code",
   "execution_count": 33,
   "metadata": {},
   "outputs": [],
   "source": [
    "def row_for_title(title):\n",
    "    \"\"\"Return the row for a title\n",
    "    \n",
    "    \"\"\"\n",
    "    return movies[movies[\"Title\"]==title]"
   ]
  },
  {
   "cell_type": "code",
   "execution_count": 34,
   "metadata": {},
   "outputs": [
    {
     "data": {
      "text/plain": [
       "0.0029437356216700235"
      ]
     },
     "execution_count": 34,
     "metadata": {},
     "output_type": "execute_result"
    }
   ],
   "source": [
    "batman = row_for_title(\"batman returns\") \n",
    "avengers = row_for_title(\"the avengers\") \n",
    "from math import sqrt\n",
    "action_distance = sqrt((avengers['money'].item() - batman['money'].item())**2 + (avengers['feel'].item() - batman['feel'].item())**2)\n",
    "action_distance"
   ]
  },
  {
   "cell_type": "markdown",
   "metadata": {},
   "source": [
    "Below, we've added a third training movie, *The Terminator*. Before, the point closest to *Batman Returns* was *Titanic*, a romance movie. However, now the closest point is *The Terminator*, an action movie."
   ]
  },
  {
   "cell_type": "code",
   "execution_count": 35,
   "metadata": {},
   "outputs": [
    {
     "data": {
      "image/png": "[encoded data removed]",
      "text/plain": [
       "<Figure size 1200x800 with 1 Axes>"
      ]
     },
     "metadata": {},
     "output_type": "display_data"
    }
   ],
   "source": [
    "plt.figure(figsize=(12, 8))\n",
    "plt.xlim(-0.0005, 0.002)\n",
    "plt.ylim(-0.001, 0.006)\n",
    "plt.xlabel('money', fontsize=25)\n",
    "plt.ylabel('feel', fontsize=25)\n",
    "\n",
    "training = [\"the avengers\", \"titanic\", \"the terminator\"] \n",
    "plot_with_two_features(\"batman returns\", training, \"money\", \"feel\") "
   ]
  },
  {
   "cell_type": "markdown",
   "metadata": {},
   "source": [
    "### Problem 2.2.b:\n",
    "\n",
    "Complete the function `distance_two_features` that computes the Euclidean distance between any two movies, using two features. The last two lines call your function to show that *Batman Returns* is closer to *The Terminator* than *The Avengers*. "
   ]
  },
  {
   "cell_type": "code",
   "execution_count": 36,
   "metadata": {},
   "outputs": [
    {
     "name": "stdout",
     "output_type": "stream",
     "text": [
      "the terminator distance:\t 0.0018531387547749897\n",
      "the avengers distance:\t 0.0029437356216700235\n"
     ]
    }
   ],
   "source": [
    "def distance_two_features(title0, title1, x_feature, y_feature):\n",
    "    \"\"\"Compute the distance between two movies with titles title0 and title1\n",
    "    \n",
    "    Only the features named x_feature and y_feature are used when computing the distance.\n",
    "    \"\"\"\n",
    "    row0 = row_for_title(title0)\n",
    "    row1 = row_for_title(title1)\n",
    "    return sqrt((row0[x_feature].item() - row1[x_feature].item())**2 + (row0[y_feature].item() - row1[y_feature].item())**2)\n",
    "\n",
    "for movie in [\"the terminator\", \"the avengers\"]:\n",
    "    movie_distance = distance_two_features(movie, \"batman returns\", \"money\", \"feel\")\n",
    "    print(movie, 'distance:\\t', movie_distance)"
   ]
  },
  {
   "cell_type": "markdown",
   "metadata": {},
   "source": [
    "### Problem 2.2.c:\n",
    "\n",
    "Define the function `distance_from_batman_returns` so that it works as described in its documentation.\n",
    "\n",
    "**Note:** Your solution should not use arithmetic operations directly. Instead, it should make use of existing functionality above!"
   ]
  },
  {
   "cell_type": "code",
   "execution_count": 37,
   "metadata": {},
   "outputs": [],
   "source": [
    "def distance_from_batman_returns(title):\n",
    "    \"\"\"The distance between the given movie and \"batman returns\", based on the features \"money\" and \"feel\".\n",
    "    \n",
    "    This function takes a single argument:\n",
    "      title: A string, the name of a movie.\n",
    "    \"\"\"\n",
    "    return distance_two_features(title, \"batman returns\", \"money\", \"feel\")\n",
    "\n",
    "#print(distance_from_batman_returns(\"titanic\"))"
   ]
  },
  {
   "cell_type": "markdown",
   "metadata": {},
   "source": [
    "### Problem 2.2.d:\n",
    "\n",
    "Using the features `\"money\"` and `\"feel\"`, what are the names and genres of the 7 movies in the **training set** closest to \"batman returns\"?  To answer this question, make a table named `close_movies` containing those 7 movies with columns `\"Title\"`, `\"Genre\"`, `\"money\"`, and `\"feel\"`, as well as a column called `\"distance from batman\"` that contains the distance from \"batman returns\".  The dataframe should be **sorted in ascending order by `distance from batman`**.\n",
    "\n",
    "*Hint*: You may find the function [`insert`](https://pandas.pydata.org/docs/reference/api/pandas.DataFrame.insert.html) useful."
   ]
  },
  {
   "cell_type": "code",
   "execution_count": 38,
   "metadata": {},
   "outputs": [
    {
     "data": {
      "text/html": [
       "<div>\n",
       "<style scoped>\n",
       "    .dataframe tbody tr th:only-of-type {\n",
       "        vertical-align: middle;\n",
       "    }\n",
       "\n",
       "    .dataframe tbody tr th {\n",
       "        vertical-align: top;\n",
       "    }\n",
       "\n",
       "    .dataframe thead th {\n",
       "        text-align: right;\n",
       "    }\n",
       "</style>\n",
       "<table border=\"1\" class=\"dataframe\">\n",
       "  <thead>\n",
       "    <tr style=\"text-align: right;\">\n",
       "      <th></th>\n",
       "      <th>Title</th>\n",
       "      <th>Genre</th>\n",
       "      <th>money</th>\n",
       "      <th>feel</th>\n",
       "      <th>distance from batman</th>\n",
       "    </tr>\n",
       "  </thead>\n",
       "  <tbody>\n",
       "    <tr>\n",
       "      <th>235</th>\n",
       "      <td>batman returns</td>\n",
       "      <td>action</td>\n",
       "      <td>0.000502</td>\n",
       "      <td>0.004016</td>\n",
       "      <td>0.000000</td>\n",
       "    </tr>\n",
       "    <tr>\n",
       "      <th>61</th>\n",
       "      <td>the bridges of madison county</td>\n",
       "      <td>romance</td>\n",
       "      <td>0.000565</td>\n",
       "      <td>0.004333</td>\n",
       "      <td>0.000323</td>\n",
       "    </tr>\n",
       "    <tr>\n",
       "      <th>199</th>\n",
       "      <td>the fisher king</td>\n",
       "      <td>romance</td>\n",
       "      <td>0.000618</td>\n",
       "      <td>0.003504</td>\n",
       "      <td>0.000525</td>\n",
       "    </tr>\n",
       "    <tr>\n",
       "      <th>81</th>\n",
       "      <td>broadcast news</td>\n",
       "      <td>romance</td>\n",
       "      <td>0.000137</td>\n",
       "      <td>0.003553</td>\n",
       "      <td>0.000590</td>\n",
       "    </tr>\n",
       "    <tr>\n",
       "      <th>201</th>\n",
       "      <td>x-men</td>\n",
       "      <td>action</td>\n",
       "      <td>0.000000</td>\n",
       "      <td>0.003456</td>\n",
       "      <td>0.000752</td>\n",
       "    </tr>\n",
       "    <tr>\n",
       "      <th>24</th>\n",
       "      <td>hellboy</td>\n",
       "      <td>action</td>\n",
       "      <td>0.000000</td>\n",
       "      <td>0.003350</td>\n",
       "      <td>0.000834</td>\n",
       "    </tr>\n",
       "    <tr>\n",
       "      <th>120</th>\n",
       "      <td>as good as it gets</td>\n",
       "      <td>romance</td>\n",
       "      <td>0.000523</td>\n",
       "      <td>0.003139</td>\n",
       "      <td>0.000878</td>\n",
       "    </tr>\n",
       "  </tbody>\n",
       "</table>\n",
       "</div>"
      ],
      "text/plain": [
       "                             Title    Genre     money      feel  \\\n",
       "235                 batman returns   action  0.000502  0.004016   \n",
       "61   the bridges of madison county  romance  0.000565  0.004333   \n",
       "199                the fisher king  romance  0.000618  0.003504   \n",
       "81                  broadcast news  romance  0.000137  0.003553   \n",
       "201                          x-men   action  0.000000  0.003456   \n",
       "24                         hellboy   action  0.000000  0.003350   \n",
       "120             as good as it gets  romance  0.000523  0.003139   \n",
       "\n",
       "     distance from batman  \n",
       "235              0.000000  \n",
       "61               0.000323  \n",
       "199              0.000525  \n",
       "81               0.000590  \n",
       "201              0.000752  \n",
       "24               0.000834  \n",
       "120              0.000878  "
      ]
     },
     "execution_count": 38,
     "metadata": {},
     "output_type": "execute_result"
    }
   ],
   "source": [
    "# The sample solution took multiple lines.\n",
    "new_data = pd.DataFrame(movies, columns=['Title', \"Genre\", \"money\", \"feel\"])\n",
    "distance = []\n",
    "\n",
    "for title in new_data['Title']:\n",
    "    distance.append(distance_from_batman_returns(title))\n",
    "\n",
    "new_data.insert(4, \"distance from batman\", distance)\n",
    "new_data = new_data.sort_values(\"distance from batman\")\n",
    "close_movies = new_data.head(7)\n",
    "close_movies"
   ]
  },
  {
   "cell_type": "markdown",
   "metadata": {},
   "source": [
    "### Problem 2.2.e:\n",
    "\n",
    "Next, we'll clasify \"batman returns\" based on the genres of the closest movies. \n",
    "\n",
    "To do so, define the function `most_common` so that it works as described in its documentation below."
   ]
  },
  {
   "cell_type": "code",
   "execution_count": 39,
   "metadata": {},
   "outputs": [
    {
     "data": {
      "text/plain": [
       "['romance']"
      ]
     },
     "execution_count": 39,
     "metadata": {},
     "output_type": "execute_result"
    }
   ],
   "source": [
    "def most_common(label, dataframe):\n",
    "    \"\"\"The most common element in a column of a table.\n",
    "    \n",
    "    This function takes two arguments:\n",
    "      label: The label of a column, a string.\n",
    "      dataframe: A dataframe.\n",
    "     \n",
    "    It returns the most common value in that column of that table.\n",
    "    In case of a tie, it returns any one of the most common values\n",
    "    \"\"\"\n",
    "    value_counts = dataframe[label].value_counts()\n",
    "    most_common_values = value_counts[value_counts == value_counts.max()].index.tolist()\n",
    "    return most_common_values\n",
    "\n",
    "# Calling most_common on your table of 7 nearest neighbors classifies\n",
    "# \"batman returns\" as a romance movie, 5 votes to 2. \n",
    "most_common('Genre', close_movies)"
   ]
  },
  {
   "cell_type": "markdown",
   "metadata": {},
   "source": [
    "Congratulations, you've classified your first movie! However, we can see that the classifier doesn't work too well since it categorized *Batman Returns* as a romance movie. Let's see if we can do better!"
   ]
  },
  {
   "cell_type": "markdown",
   "metadata": {},
   "source": [
    "### Part 3. Features\n",
    "\n",
    "Now, we're going to extend our classifier to consider more than two features at a time.\n",
    "\n",
    "Euclidean distance still makes sense with more than two features. For `n` different features, we compute the difference between corresponding feature values for two movies, square each of the `n`  differences, sum up the resulting numbers, and take the square root of the sum."
   ]
  },
  {
   "cell_type": "markdown",
   "metadata": {},
   "source": [
    "### Problem 2.3.a:\n",
    "\n",
    "Write a function to compute the Euclidean distance between two **arrays** of features of *arbitrary* (but equal) length.  Use it to compute the distance between the first movie in the training set and the first movie in the test set, *using all of the features*.  (Remember that the first six columns of your tables are not features.)\n",
    "\n",
    "**Note:** To convert rows to arrays, use `np.array`. For example, if `df` was a dataframe, `np.array(df.iloc[i])` converts row i of `df` into an array."
   ]
  },
  {
   "cell_type": "code",
   "execution_count": 40,
   "metadata": {},
   "outputs": [
    {
     "data": {
      "text/plain": [
       "0.04834408299813726"
      ]
     },
     "execution_count": 40,
     "metadata": {},
     "output_type": "execute_result"
    }
   ],
   "source": [
    "def distance(features1, features2):\n",
    "    \"\"\"The Euclidean distance between two arrays of feature values.\"\"\"\n",
    "    squared_differences = [(x - y) ** 2 for x, y in zip(features1, features2)]\n",
    "    euclidean_distance = sqrt(sum(squared_differences))\n",
    "    \n",
    "    return euclidean_distance\n",
    "\n",
    "distance_first_to_first =  distance(train_movies.iloc[1, 6:], test_movies.iloc[1, 6:])\n",
    "distance_first_to_first"
   ]
  },
  {
   "cell_type": "markdown",
   "metadata": {},
   "source": [
    "**Creating your own feature set**\n",
    "\n",
    "Unfortunately, using all of the features has some downsides.  One clear downside is *computational* -- computing Euclidean distances just takes a long time when we have lots of features.  You might have noticed that in the last question!\n",
    "\n",
    "So we're going to select just 20.  We'd like to choose features that are very *discriminative*. That is, features which lead us to correctly classify as much of the test set as possible.  This process of choosing features that will make a classifier work well is sometimes called *feature selection*, or more broadly *feature engineering*."
   ]
  },
  {
   "cell_type": "markdown",
   "metadata": {},
   "source": [
    "### Problem 2.3.b:\n",
    "\n",
    "In this question, we will help you get started on selecting more effective features for distinguishing romance from action movies. The plot below (generated for you) shows the average number of times each word occurs in a romance movie on the horizontal axis and the average number of times it occurs in an action movie on the vertical axis. "
   ]
  },
  {
   "cell_type": "markdown",
   "metadata": {},
   "source": [
    "![alt text](https://github.com/YData123/sds265-fa22/raw/master/assignments/assn1/word_plot.png \"Title\")"
   ]
  },
  {
   "cell_type": "markdown",
   "metadata": {},
   "source": [
    "### Problem 2.3.c:\n",
    "\n",
    "Using the plot above, choose 20 common words that you think might let you distinguish between romance and action movies. Make sure to choose words that are frequent enough that every movie contains at least one of them. Don't just choose the 20 most frequent, though... you can do much better.\n",
    "\n",
    "You might want to come back to this question later to improve your list, once you've seen how to evaluate your classifier. "
   ]
  },
  {
   "cell_type": "code",
   "execution_count": 41,
   "metadata": {},
   "outputs": [],
   "source": [
    "# Set my_20_features to a list of 20 features (strings that are column labels)\n",
    "\n",
    "my_20_features = [\"power\", \"captain\", \"marri\", \"wife\", \"power\", \"command\", \"home\", \"system\", \"ship\", \"nice\", \"wonder\", \"write\", \"cours\", \"guess\", \"huh\", \"miss\", \"hous\", \"play\", \"war\", \"program\"]\n",
    "\n",
    "train_20 = train_movies[my_20_features]\n",
    "test_20 = test_movies[my_20_features]"
   ]
  },
  {
   "cell_type": "markdown",
   "metadata": {},
   "source": [
    "In two sentences or less, describe how you selected your features. "
   ]
  },
  {
   "cell_type": "markdown",
   "metadata": {},
   "source": [
    "*I searched for extremely distinguishable ratios of word prevalence across genres (words that were farther away from the central line in any direction). For instance the stem \"marri\" was selected because it appears 5-6 times more often in romance movies than in action movies, whereas the stem \"phone\" appears in about a 1:1 ratio across genres, meaning that it is not helpful in determining the genre and should not be selected.*"
   ]
  },
  {
   "cell_type": "markdown",
   "metadata": {},
   "source": [
    "Next, let's classify the first movie from our test set using these features.  You can examine the movie by running the cells below. Do you think it will be classified correctly?"
   ]
  },
  {
   "cell_type": "code",
   "execution_count": 42,
   "metadata": {},
   "outputs": [
    {
     "name": "stdout",
     "output_type": "stream",
     "text": [
      "Movie:\n",
      "Title    the mummy\n",
      "Genre       action\n",
      "Name: 200, dtype: object\n",
      "Features:\n",
      "power      0.000000\n",
      "captain    0.000000\n",
      "marri      0.000321\n",
      "wife       0.000000\n",
      "power      0.000000\n",
      "command    0.000321\n",
      "home       0.000000\n",
      "system     0.000000\n",
      "ship       0.000000\n",
      "nice       0.000321\n",
      "wonder     0.000321\n",
      "write      0.000321\n",
      "cours      0.000642\n",
      "guess      0.000000\n",
      "huh        0.000963\n",
      "miss       0.000963\n",
      "hous       0.000000\n",
      "play       0.000642\n",
      "war        0.000000\n",
      "program    0.000000\n",
      "Name: 200, dtype: float64\n"
     ]
    }
   ],
   "source": [
    "print(\"Movie:\")\n",
    "print(test_movies.iloc[0,[0,1]])\n",
    "print(\"Features:\")\n",
    "print(test_20.iloc[0])"
   ]
  },
  {
   "cell_type": "markdown",
   "metadata": {},
   "source": [
    "As before, we want to look for the movies in the training set that are most like our test movie.  We will calculate the Euclidean distances from the test movie (using the 20 selected features) to all movies in the training set.  You could do this with a `for` loop, but to make it computationally faster, we have provided a function, `fast_distances`, to do this for you.  Read its documentation to make sure you understand what it does.  (You don't need to understand the code in its body unless you want to.)"
   ]
  },
  {
   "cell_type": "code",
   "execution_count": 43,
   "metadata": {},
   "outputs": [],
   "source": [
    "# Just run this cell to define fast_distances.\n",
    "\n",
    "def fast_distances(test_row, train_dataframe):\n",
    "    \"\"\"An array of the distances between test_row and each row in train_rows.\n",
    "\n",
    "    Takes 2 arguments:\n",
    "      test_row: A row of a table containing features of one\n",
    "        test movie (e.g., test_20.iloc[0]).\n",
    "      train_table: A table of features (for example, the whole\n",
    "        table train_20).\"\"\"\n",
    "    assert len(train_dataframe.columns) < 50, \"Make sure you're not using all the features of the movies table.\"\n",
    "    counts_matrix = np.asmatrix(train_20.values)\n",
    "    diff = np.tile(test_row.values, [counts_matrix.shape[0], 1]) - counts_matrix\n",
    "    np.random.seed(0) # For tie breaking purposes\n",
    "    distances = np.squeeze(np.asarray(np.sqrt(np.square(diff).sum(1))))\n",
    "    eps = np.random.uniform(size=distances.shape)*1e-10 #Noise for tie break\n",
    "    distances = distances + eps\n",
    "    return distances"
   ]
  },
  {
   "cell_type": "markdown",
   "metadata": {},
   "source": [
    "### Problem 2.3.d:\n",
    "\n",
    "Use the `fast_distances` function provided above to compute the distance from the first movie in the test set to all the movies in the training set, **using your set of 20 features**.  Make a new dataframe called `genre_and_distances` with one row for each movie in the training set and three columns:\n",
    "* The `\"Title\"` of the training movie\n",
    "* The `\"Genre\"` of the training movie\n",
    "* The `\"Distance\"` from the first movie in the test set \n",
    "\n",
    "Ensure that `genre_and_distances` is **sorted in increasing order by distance to the first test movie**.\n",
    "\n",
    "*Hint*: You may find the function [`sort_values`](https://pandas.pydata.org/pandas-docs/stable/reference/api/pandas.DataFrame.sort_values.html) useful."
   ]
  },
  {
   "cell_type": "code",
   "execution_count": 44,
   "metadata": {},
   "outputs": [
    {
     "data": {
      "text/html": [
       "<div>\n",
       "<style scoped>\n",
       "    .dataframe tbody tr th:only-of-type {\n",
       "        vertical-align: middle;\n",
       "    }\n",
       "\n",
       "    .dataframe tbody tr th {\n",
       "        vertical-align: top;\n",
       "    }\n",
       "\n",
       "    .dataframe thead th {\n",
       "        text-align: right;\n",
       "    }\n",
       "</style>\n",
       "<table border=\"1\" class=\"dataframe\">\n",
       "  <thead>\n",
       "    <tr style=\"text-align: right;\">\n",
       "      <th></th>\n",
       "      <th>Title</th>\n",
       "      <th>Genre</th>\n",
       "      <th>Distance</th>\n",
       "    </tr>\n",
       "  </thead>\n",
       "  <tbody>\n",
       "    <tr>\n",
       "      <th>196</th>\n",
       "      <td>tremors</td>\n",
       "      <td>action</td>\n",
       "      <td>0.001240</td>\n",
       "    </tr>\n",
       "    <tr>\n",
       "      <th>180</th>\n",
       "      <td>even cowgirls get the blues</td>\n",
       "      <td>romance</td>\n",
       "      <td>0.001266</td>\n",
       "    </tr>\n",
       "    <tr>\n",
       "      <th>152</th>\n",
       "      <td>strange days</td>\n",
       "      <td>action</td>\n",
       "      <td>0.001287</td>\n",
       "    </tr>\n",
       "    <tr>\n",
       "      <th>6</th>\n",
       "      <td>natural born killers</td>\n",
       "      <td>action</td>\n",
       "      <td>0.001429</td>\n",
       "    </tr>\n",
       "    <tr>\n",
       "      <th>118</th>\n",
       "      <td>mission: impossible</td>\n",
       "      <td>action</td>\n",
       "      <td>0.001462</td>\n",
       "    </tr>\n",
       "    <tr>\n",
       "      <th>...</th>\n",
       "      <td>...</td>\n",
       "      <td>...</td>\n",
       "      <td>...</td>\n",
       "    </tr>\n",
       "    <tr>\n",
       "      <th>52</th>\n",
       "      <td>tron</td>\n",
       "      <td>action</td>\n",
       "      <td>0.012302</td>\n",
       "    </tr>\n",
       "    <tr>\n",
       "      <th>113</th>\n",
       "      <td>star trek vi: the undiscovered country</td>\n",
       "      <td>action</td>\n",
       "      <td>0.012859</td>\n",
       "    </tr>\n",
       "    <tr>\n",
       "      <th>110</th>\n",
       "      <td>the jazz singer</td>\n",
       "      <td>romance</td>\n",
       "      <td>0.012940</td>\n",
       "    </tr>\n",
       "    <tr>\n",
       "      <th>47</th>\n",
       "      <td>star trek v: the final frontier</td>\n",
       "      <td>action</td>\n",
       "      <td>0.016092</td>\n",
       "    </tr>\n",
       "    <tr>\n",
       "      <th>32</th>\n",
       "      <td>mighty morphin power rangers</td>\n",
       "      <td>action</td>\n",
       "      <td>0.023385</td>\n",
       "    </tr>\n",
       "  </tbody>\n",
       "</table>\n",
       "<p>200 rows × 3 columns</p>\n",
       "</div>"
      ],
      "text/plain": [
       "                                      Title    Genre  Distance\n",
       "196                                 tremors   action  0.001240\n",
       "180             even cowgirls get the blues  romance  0.001266\n",
       "152                            strange days   action  0.001287\n",
       "6                      natural born killers   action  0.001429\n",
       "118                     mission: impossible   action  0.001462\n",
       "..                                      ...      ...       ...\n",
       "52                                     tron   action  0.012302\n",
       "113  star trek vi: the undiscovered country   action  0.012859\n",
       "110                         the jazz singer  romance  0.012940\n",
       "47          star trek v: the final frontier   action  0.016092\n",
       "32             mighty morphin power rangers   action  0.023385\n",
       "\n",
       "[200 rows x 3 columns]"
      ]
     },
     "execution_count": 44,
     "metadata": {},
     "output_type": "execute_result"
    }
   ],
   "source": [
    "genre_and_distances = pd.DataFrame({'Title': train_movies[\"Title\"],'Genre': train_movies[\"Genre\"], \"Distance\": fast_distances(test_20.iloc[0], train_20)}).sort_values(\"Distance\")\n",
    "genre_and_distances"
   ]
  },
  {
   "cell_type": "markdown",
   "metadata": {},
   "source": [
    "### Problem 2.3.e:\n",
    "\n",
    "Now compute the 5-nearest neighbors classification of the first movie in the test set.  That is, decide on its genre by finding the most common genre among its 5 nearest neighbors in the training set, according to the distances you've calculated.  Then check whether your classifier chose the right genre.  (Depending on the features you chose, your classifier might not get this movie right, and that's okay.)"
   ]
  },
  {
   "cell_type": "code",
   "execution_count": 61,
   "metadata": {
    "scrolled": true
   },
   "outputs": [
    {
     "name": "stdout",
     "output_type": "stream",
     "text": [
      "The assigned genre, ['action'], was correct.\n"
     ]
    }
   ],
   "source": [
    "# Set my_assigned_genre to the most common genre among these.\n",
    "my_assigned_genre = most_common('Genre', genre_and_distances[0:5])\n",
    "\n",
    "# Set my_assigned_genre_was_correct to True if my_assigned_genre\n",
    "# matches the actual genre of the first movie in the test set.\n",
    "my_assigned_genre_was_correct = (my_assigned_genre[0] == test_movies.iloc[0, 1])\n",
    "\n",
    "print(\"The assigned genre, {}, was{}correct.\".format(my_assigned_genre, \" \" if my_assigned_genre_was_correct else \" not \"))"
   ]
  },
  {
   "cell_type": "markdown",
   "metadata": {},
   "source": [
    "**A classifier function**\n",
    "\n",
    "Now we can write a single function that encapsulates the whole process of classification."
   ]
  },
  {
   "cell_type": "markdown",
   "metadata": {},
   "source": [
    "### Problem 2.3.f:\n",
    "\n",
    "Write a function called `classify`.  It should take the following four arguments:\n",
    "* A row of features for a movie to classify (e.g., `test_20.iloc[0]`).\n",
    "* A table with a column for each feature (e.g., `train_20`).\n",
    "* An array of classes that has as many items as the previous table has rows, and in the same order.\n",
    "* `k`, the number of neighbors to use in classification.\n",
    "\n",
    "It should return the class a `k`-nearest neighbor classifier picks for the given row of features (the string `'Romance'` or the string `'Action'`).\n",
    "\n",
    "*Hint:* You may find [`Counter().most_common()`](https://docs.python.org/3/library/collections.html#collections.Counter) helpful for finding the classification result."
   ]
  },
  {
   "cell_type": "code",
   "execution_count": 127,
   "metadata": {},
   "outputs": [],
   "source": [
    "from collections import Counter\n",
    "def classify(test_row, train_rows, train_labels, k):\n",
    "    \"\"\"Return the most common class among k nearest neigbors to test_row.\"\"\"\n",
    "    distances = fast_distances(test_row, train_rows)\n",
    "    genre_and_distances = pd.DataFrame({'Title': train_movies[\"Title\"],'Genre': train_movies[\"Genre\"], \"Distance\": distances}).sort_values(\"Distance\")\n",
    "    for i in range(0, len(train_labels)):\n",
    "        classifications = most_common(train_labels[i], genre_and_distances[0:k])     \n",
    "    return classifications"
   ]
  },
  {
   "cell_type": "code",
   "execution_count": 131,
   "metadata": {},
   "outputs": [
    {
     "data": {
      "text/plain": [
       "['action']"
      ]
     },
     "execution_count": 131,
     "metadata": {},
     "output_type": "execute_result"
    }
   ],
   "source": [
    "#labels = ['Genre']\n",
    "#classify(test_20.iloc[0], train_20, labels, 5)"
   ]
  },
  {
   "cell_type": "markdown",
   "metadata": {},
   "source": [
    "### Problem 2.3.g:\n",
    "\n",
    "Assign `king_kong_genre` to the genre predicted by your classifier for the movie \"king kong\" in the test set, using **11 neighbors** and using your 20 features."
   ]
  },
  {
   "cell_type": "code",
   "execution_count": 179,
   "metadata": {},
   "outputs": [
    {
     "data": {
      "text/plain": [
       "['action']"
      ]
     },
     "execution_count": 179,
     "metadata": {},
     "output_type": "execute_result"
    }
   ],
   "source": [
    "# The sample solution first defined a row called king_kong_features.\n",
    "king_kong_features = test_20.iloc[row_for_title(\"king kong\").index[0] - 200]\n",
    "king_kong_genre = classify(king_kong_features, train_20, ['Genre'], 11)\n",
    "king_kong_genre"
   ]
  },
  {
   "cell_type": "markdown",
   "metadata": {},
   "source": [
    "Finally, when we evaluate our classifier, it will be useful to have a classification function that is specialized to use a fixed training set and a fixed value of `k`."
   ]
  },
  {
   "cell_type": "markdown",
   "metadata": {},
   "source": [
    "### Problem 2.3.h:\n",
    "\n",
    "Create a classification function that takes as its argument a row containing your 20 features and classifies that row using the 11-nearest neighbors algorithm with `train_20` as its training set."
   ]
  },
  {
   "cell_type": "code",
   "execution_count": 178,
   "metadata": {},
   "outputs": [
    {
     "data": {
      "text/plain": [
       "['action']"
      ]
     },
     "execution_count": 178,
     "metadata": {},
     "output_type": "execute_result"
    }
   ],
   "source": [
    "def classify_feature_row(row):\n",
    "    classification = classify(row, train_20, ['Genre'], 11)\n",
    "    return classification\n",
    "# When you're done, this should produce 'Romance' or 'Action'.\n",
    "classify_feature_row(test_20.iloc[0])"
   ]
  },
  {
   "cell_type": "markdown",
   "metadata": {},
   "source": [
    "### Part 4: Evaluating your classifier\n",
    "\n",
    "Now that it's easy to use the classifier, let's see how accurate it is on the whole test set.\n",
    "\n",
    "### Problem 2.4.a:\n",
    "\n",
    "Use `classify_feature_row` and [`pandas.DataFrame.apply`](https://pandas.pydata.org/pandas-docs/stable/reference/api/pandas.DataFrame.apply.html) (or a loop) to classify every movie in the test set.  Assign these guesses as an array to `test_guesses`.  **Then**, compute the proportion of correct classifications. "
   ]
  },
  {
   "cell_type": "code",
   "execution_count": 226,
   "metadata": {},
   "outputs": [
    {
     "data": {
      "text/plain": [
       "0.7222222222222222"
      ]
     },
     "execution_count": 226,
     "metadata": {},
     "output_type": "execute_result"
    }
   ],
   "source": [
    "test_guesses = []\n",
    "count = 0\n",
    "for i in range(0, len(test_20)):\n",
    "    test_guesses.append(classify_feature_row(test_20.iloc[i]))\n",
    "    if test_movies['Genre'].iloc[i] == test_guesses[i][0]:\n",
    "        count += 1\n",
    "proportion_correct = count/len(test_movies['Genre'])\n",
    "proportion_correct"
   ]
  },
  {
   "cell_type": "markdown",
   "metadata": {},
   "source": [
    "### Problem 2.4.b:\n",
    "\n",
    "An important part of evaluating your classifiers is figuring out where they make mistakes. Assign the name `test_movie_correctness` to a dataframe with three columns, `'Title'`, `'Genre'`, and `'Was correct'`. The last column should contain `True` or `False` depending on whether or not the movie was classified correctly."
   ]
  },
  {
   "cell_type": "code",
   "execution_count": 225,
   "metadata": {},
   "outputs": [
    {
     "data": {
      "text/html": [
       "<div>\n",
       "<style scoped>\n",
       "    .dataframe tbody tr th:only-of-type {\n",
       "        vertical-align: middle;\n",
       "    }\n",
       "\n",
       "    .dataframe tbody tr th {\n",
       "        vertical-align: top;\n",
       "    }\n",
       "\n",
       "    .dataframe thead th {\n",
       "        text-align: right;\n",
       "    }\n",
       "</style>\n",
       "<table border=\"1\" class=\"dataframe\">\n",
       "  <thead>\n",
       "    <tr style=\"text-align: right;\">\n",
       "      <th></th>\n",
       "      <th>Title</th>\n",
       "      <th>Genre</th>\n",
       "      <th>Was correct</th>\n",
       "    </tr>\n",
       "  </thead>\n",
       "  <tbody>\n",
       "    <tr>\n",
       "      <th>219</th>\n",
       "      <td>the cider house rules</td>\n",
       "      <td>romance</td>\n",
       "      <td>False</td>\n",
       "    </tr>\n",
       "    <tr>\n",
       "      <th>233</th>\n",
       "      <td>solaris</td>\n",
       "      <td>romance</td>\n",
       "      <td>False</td>\n",
       "    </tr>\n",
       "    <tr>\n",
       "      <th>232</th>\n",
       "      <td>logan's run</td>\n",
       "      <td>action</td>\n",
       "      <td>False</td>\n",
       "    </tr>\n",
       "    <tr>\n",
       "      <th>231</th>\n",
       "      <td>legend</td>\n",
       "      <td>romance</td>\n",
       "      <td>False</td>\n",
       "    </tr>\n",
       "    <tr>\n",
       "      <th>216</th>\n",
       "      <td>top gun</td>\n",
       "      <td>romance</td>\n",
       "      <td>False</td>\n",
       "    </tr>\n",
       "    <tr>\n",
       "      <th>229</th>\n",
       "      <td>independence day</td>\n",
       "      <td>action</td>\n",
       "      <td>False</td>\n",
       "    </tr>\n",
       "    <tr>\n",
       "      <th>207</th>\n",
       "      <td>body of evidence</td>\n",
       "      <td>romance</td>\n",
       "      <td>False</td>\n",
       "    </tr>\n",
       "    <tr>\n",
       "      <th>208</th>\n",
       "      <td>the hudsucker proxy</td>\n",
       "      <td>romance</td>\n",
       "      <td>False</td>\n",
       "    </tr>\n",
       "    <tr>\n",
       "      <th>226</th>\n",
       "      <td>the apartment</td>\n",
       "      <td>romance</td>\n",
       "      <td>False</td>\n",
       "    </tr>\n",
       "    <tr>\n",
       "      <th>225</th>\n",
       "      <td>rear window</td>\n",
       "      <td>romance</td>\n",
       "      <td>False</td>\n",
       "    </tr>\n",
       "    <tr>\n",
       "      <th>221</th>\n",
       "      <td>dune</td>\n",
       "      <td>action</td>\n",
       "      <td>True</td>\n",
       "    </tr>\n",
       "    <tr>\n",
       "      <th>222</th>\n",
       "      <td>superman iv: the quest for peace</td>\n",
       "      <td>action</td>\n",
       "      <td>True</td>\n",
       "    </tr>\n",
       "    <tr>\n",
       "      <th>223</th>\n",
       "      <td>blade</td>\n",
       "      <td>action</td>\n",
       "      <td>True</td>\n",
       "    </tr>\n",
       "    <tr>\n",
       "      <th>200</th>\n",
       "      <td>the mummy</td>\n",
       "      <td>action</td>\n",
       "      <td>True</td>\n",
       "    </tr>\n",
       "    <tr>\n",
       "      <th>220</th>\n",
       "      <td>the negotiator</td>\n",
       "      <td>action</td>\n",
       "      <td>True</td>\n",
       "    </tr>\n",
       "    <tr>\n",
       "      <th>228</th>\n",
       "      <td>my girl 2</td>\n",
       "      <td>romance</td>\n",
       "      <td>True</td>\n",
       "    </tr>\n",
       "    <tr>\n",
       "      <th>230</th>\n",
       "      <td>48 hrs.</td>\n",
       "      <td>action</td>\n",
       "      <td>True</td>\n",
       "    </tr>\n",
       "    <tr>\n",
       "      <th>224</th>\n",
       "      <td>an officer and a gentleman</td>\n",
       "      <td>romance</td>\n",
       "      <td>True</td>\n",
       "    </tr>\n",
       "    <tr>\n",
       "      <th>227</th>\n",
       "      <td>the bourne identity</td>\n",
       "      <td>action</td>\n",
       "      <td>True</td>\n",
       "    </tr>\n",
       "    <tr>\n",
       "      <th>217</th>\n",
       "      <td>crime spree</td>\n",
       "      <td>action</td>\n",
       "      <td>True</td>\n",
       "    </tr>\n",
       "    <tr>\n",
       "      <th>234</th>\n",
       "      <td>american outlaws</td>\n",
       "      <td>action</td>\n",
       "      <td>True</td>\n",
       "    </tr>\n",
       "    <tr>\n",
       "      <th>215</th>\n",
       "      <td>the fantastic four</td>\n",
       "      <td>action</td>\n",
       "      <td>True</td>\n",
       "    </tr>\n",
       "    <tr>\n",
       "      <th>214</th>\n",
       "      <td>mr. deeds goes to town</td>\n",
       "      <td>romance</td>\n",
       "      <td>True</td>\n",
       "    </tr>\n",
       "    <tr>\n",
       "      <th>213</th>\n",
       "      <td>blade ii</td>\n",
       "      <td>action</td>\n",
       "      <td>True</td>\n",
       "    </tr>\n",
       "    <tr>\n",
       "      <th>212</th>\n",
       "      <td>cruel intentions</td>\n",
       "      <td>romance</td>\n",
       "      <td>True</td>\n",
       "    </tr>\n",
       "    <tr>\n",
       "      <th>211</th>\n",
       "      <td>star wars</td>\n",
       "      <td>action</td>\n",
       "      <td>True</td>\n",
       "    </tr>\n",
       "    <tr>\n",
       "      <th>210</th>\n",
       "      <td>starship troopers</td>\n",
       "      <td>action</td>\n",
       "      <td>True</td>\n",
       "    </tr>\n",
       "    <tr>\n",
       "      <th>209</th>\n",
       "      <td>badlands</td>\n",
       "      <td>romance</td>\n",
       "      <td>True</td>\n",
       "    </tr>\n",
       "    <tr>\n",
       "      <th>206</th>\n",
       "      <td>king kong</td>\n",
       "      <td>action</td>\n",
       "      <td>True</td>\n",
       "    </tr>\n",
       "    <tr>\n",
       "      <th>205</th>\n",
       "      <td>sleepless in seattle</td>\n",
       "      <td>romance</td>\n",
       "      <td>True</td>\n",
       "    </tr>\n",
       "    <tr>\n",
       "      <th>204</th>\n",
       "      <td>the bourne supremacy</td>\n",
       "      <td>action</td>\n",
       "      <td>True</td>\n",
       "    </tr>\n",
       "    <tr>\n",
       "      <th>203</th>\n",
       "      <td>witness</td>\n",
       "      <td>romance</td>\n",
       "      <td>True</td>\n",
       "    </tr>\n",
       "    <tr>\n",
       "      <th>202</th>\n",
       "      <td>men in black</td>\n",
       "      <td>action</td>\n",
       "      <td>True</td>\n",
       "    </tr>\n",
       "    <tr>\n",
       "      <th>201</th>\n",
       "      <td>x-men</td>\n",
       "      <td>action</td>\n",
       "      <td>True</td>\n",
       "    </tr>\n",
       "    <tr>\n",
       "      <th>218</th>\n",
       "      <td>the majestic</td>\n",
       "      <td>romance</td>\n",
       "      <td>True</td>\n",
       "    </tr>\n",
       "    <tr>\n",
       "      <th>235</th>\n",
       "      <td>batman returns</td>\n",
       "      <td>action</td>\n",
       "      <td>True</td>\n",
       "    </tr>\n",
       "  </tbody>\n",
       "</table>\n",
       "</div>"
      ],
      "text/plain": [
       "                                Title    Genre Was correct\n",
       "219             the cider house rules  romance       False\n",
       "233                           solaris  romance       False\n",
       "232                       logan's run   action       False\n",
       "231                            legend  romance       False\n",
       "216                           top gun  romance       False\n",
       "229                  independence day   action       False\n",
       "207                  body of evidence  romance       False\n",
       "208               the hudsucker proxy  romance       False\n",
       "226                     the apartment  romance       False\n",
       "225                       rear window  romance       False\n",
       "221                              dune   action        True\n",
       "222  superman iv: the quest for peace   action        True\n",
       "223                             blade   action        True\n",
       "200                         the mummy   action        True\n",
       "220                    the negotiator   action        True\n",
       "228                         my girl 2  romance        True\n",
       "230                           48 hrs.   action        True\n",
       "224        an officer and a gentleman  romance        True\n",
       "227               the bourne identity   action        True\n",
       "217                       crime spree   action        True\n",
       "234                  american outlaws   action        True\n",
       "215                the fantastic four   action        True\n",
       "214            mr. deeds goes to town  romance        True\n",
       "213                          blade ii   action        True\n",
       "212                  cruel intentions  romance        True\n",
       "211                         star wars   action        True\n",
       "210                 starship troopers   action        True\n",
       "209                          badlands  romance        True\n",
       "206                         king kong   action        True\n",
       "205              sleepless in seattle  romance        True\n",
       "204              the bourne supremacy   action        True\n",
       "203                           witness  romance        True\n",
       "202                      men in black   action        True\n",
       "201                             x-men   action        True\n",
       "218                      the majestic  romance        True\n",
       "235                    batman returns   action        True"
      ]
     },
     "execution_count": 225,
     "metadata": {},
     "output_type": "execute_result"
    }
   ],
   "source": [
    "correctness = []\n",
    "for i in range(0, len(test_movies)):\n",
    "    if test_movies['Genre'].iloc[i] == test_guesses[i][0]:\n",
    "        correctness.append('True')\n",
    "    else:\n",
    "        correctness.append('False')\n",
    "test_movie_correctness = pd.DataFrame({'Title': test_movies[\"Title\"],'Genre': test_movies[\"Genre\"], \"Was correct\": correctness})\n",
    "test_movie_correctness.sort_values('Was correct')"
   ]
  },
  {
   "cell_type": "markdown",
   "metadata": {},
   "source": [
    "### Problem 2.4.c:\n",
    "\n",
    "Do you see a pattern in the mistakes that your classifier makes? In two sentences or less, describe any patterns you see in the results or any other interesting findings from the table above. If you need some help, try looking up the movies that your classifier got wrong on Wikipedia."
   ]
  },
  {
   "cell_type": "markdown",
   "metadata": {},
   "source": [
    "*For many of the movies for which the classifier has made errors, the movie has several elements of the other genre in addition to the one it is listed as. For instance, Solaris is considered a romance movie according to the main dataset while my classifier determined it to be action, however the plot according to IMDB ('A psychologist is sent to a station orbiting a distant planet in order to discover what has caused the crew to go insane') sounds more indicative of action to me.*"
   ]
  },
  {
   "cell_type": "markdown",
   "metadata": {},
   "source": [
    "At this point, you've gone through one cycle of classifier design.  Let's summarize the steps:\n",
    "1. From available data, select test and training sets.\n",
    "2. Choose an algorithm you're going to use for classification.\n",
    "3. Identify some features.\n",
    "4. Define a classifier function using your features and the training set.\n",
    "5. Evaluate its performance (the proportion of correct classifications) on the test set."
   ]
  }
 ],
 "metadata": {
  "kernelspec": {
   "display_name": "Python 3 (ipykernel)",
   "language": "python",
   "name": "python3"
  },
  "language_info": {
   "codemirror_mode": {
    "name": "ipython",
    "version": 3
   },
   "file_extension": ".py",
   "mimetype": "text/x-python",
   "name": "python",
   "nbconvert_exporter": "python",
   "pygments_lexer": "ipython3",
   "version": "3.11.5"
  }
 },
 "nbformat": 4,
 "nbformat_minor": 4
}
