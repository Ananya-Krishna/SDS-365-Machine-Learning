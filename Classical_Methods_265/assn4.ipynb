{
  "cells": [
    {
      "cell_type": "markdown",
      "metadata": {
        "id": "TmNuN9oKA8jP"
      },
      "source": [
        "## Introductory Machine Learning: Assignment 4\n",
        "\n",
        "**Deadline:**\n",
        "\n",
        "Assignment 4 is due Thursday, November 10 at 11:59pm. Late work will not be accepted as per the course policies (see the Syllabus and Course policies on [Canvas](https://canvas.yale.edu).\n",
        "\n",
        "Directly sharing answers is not okay, but discussing problems with the course staff or with other students is encouraged.\n",
        "\n",
        "You should start early so that you have time to get help if you're stuck. The drop-in office hours schedule can be found on [Canvas](https://canvas.yale.edu).  You can also post questions or start discussions on [Ed Discussion](https://edstem.org/us/courses/9209/discussion/). The problems are broken up into steps that should help you to make steady progress.\n",
        "\n",
        "**Submission:**\n",
        "\n",
        "Submit your assignment as a .pdf on Gradescope, and as a .ipynb on Canvas. You can access Gradescope through Canvas on the left-side of the class home page. The problems in each homework assignment are numbered. Note: When submitting on Gradescope, please select the correct pages of your pdf that correspond to each problem. This will allow graders to find your complete solution to each problem.\n",
        "\n",
        "To produce the .pdf, please do the following in order to preserve the cell structure of the notebook:  \n",
        "1.  Go to \"File\" at the top-left of your Jupyter Notebook\n",
        "2.  Under \"Download as\", select \"HTML (.html)\"\n",
        "3.  After the .html has downloaded, open it and then select \"File\" and \"Print\" (note you will not actually be printing)\n",
        "4.  From the print window, select the option to save as a .pdf\n",
        "\n",
        "**Topics**\n",
        "1. Language models\n",
        "2. Work embeddings"
      ],
      "id": "TmNuN9oKA8jP"
    },
    {
      "cell_type": "markdown",
      "metadata": {
        "id": "wZWfkttfA8jT"
      },
      "source": [
        "### Problem 1: Gutenberg Books Language Models (15 points)\n",
        "\n",
        "For this problem you will process books from the [Project Gutenberg](https://www.gutenberg.org/) site which is a public respository of large numbers of books that are in the public domain. You'll build *character-based* (as opposed to word-based) language models on one book, and predict the letters of the other book using the model.\n"
      ],
      "id": "wZWfkttfA8jT"
    },
    {
      "cell_type": "code",
      "execution_count": null,
      "metadata": {
        "id": "U0TSF0CUA8jU"
      },
      "outputs": [],
      "source": [
        "import numpy as np\n",
        "from collections import Counter\n",
        "import matplotlib.pyplot as plots\n",
        "%matplotlib inline\n",
        "\n",
        "import warnings\n",
        "warnings.filterwarnings('ignore')"
      ],
      "id": "U0TSF0CUA8jU"
    },
    {
      "cell_type": "markdown",
      "metadata": {
        "id": "ECgNGh97A8jV"
      },
      "source": [
        "The following helper function `read_url` reads in the text at the given url, and then uses some\n",
        "[regular expressions](https://www.w3schools.com/python/python_regex.asp) to process the book, removing\n",
        "everything but the letters a-z, space and period."
      ],
      "id": "ECgNGh97A8jV"
    },
    {
      "cell_type": "code",
      "execution_count": null,
      "metadata": {
        "id": "cqRqInwhA8jW"
      },
      "outputs": [],
      "source": [
        "from urllib.request import urlopen\n",
        "import re\n",
        "def read_url(url):\n",
        "    return re.sub('\\\\s+', ' ', urlopen(url).read().decode())\n",
        "\n",
        "def process_text(text):\n",
        "    text = re.sub('[^a-zA-z .]', '', text.lower())\n",
        "    return re.sub('[\\[\\]\\_]', '', text)"
      ],
      "id": "cqRqInwhA8jW"
    },
    {
      "cell_type": "markdown",
      "metadata": {
        "id": "BEMgznsSA8jW"
      },
      "source": [
        "<img src=\"https://www.gutenberg.org/cache/epub/76/pg76.cover.medium.jpg\" width=\"110\" align=\"top\">\n",
        "\n",
        "The online book for \"Adventures of Huckleberry Finn,\" by Mark Twain, is [here](https://www.gutenberg.org/ebooks/76).\n",
        "From this web site you can see various metadata for the book as well as the [link the text itself](https://www.gutenberg.org/files/76/76-0.txt), which is [https://www.gutenberg.org/files/76/76-0.txt](https://www.gutenberg.org/files/76/76-0.txt)\n",
        "\n",
        "The book for Mark Twain's \"A Connecticut Yankee in King Arthur's Court\" is [here](https://www.gutenberg.org/ebooks/86).\n",
        "In the following cell we read in both of these books, and remove all characters except a-z, space, and period."
      ],
      "id": "BEMgznsSA8jW"
    },
    {
      "cell_type": "code",
      "execution_count": null,
      "metadata": {
        "id": "iNK8TUQ8A8jX"
      },
      "outputs": [],
      "source": [
        "huck_finn_url = 'https://www.gutenberg.org/files/76/76-0.txt'\n",
        "huck_finn_text_raw = read_url(huck_finn_url)\n",
        "huck_finn_text = process_text(huck_finn_text_raw)\n",
        "\n",
        "ct_yankee_url = 'https://www.gutenberg.org/files/86/86-0.txt'\n",
        "ct_yankee_text_raw = read_url(ct_yankee_url)\n",
        "ct_yankee_text = process_text(ct_yankee_text_raw)\n"
      ],
      "id": "iNK8TUQ8A8jX"
    },
    {
      "cell_type": "code",
      "execution_count": null,
      "metadata": {
        "id": "cCVyuqz9A8jY",
        "colab": {
          "base_uri": "https://localhost:8080/"
        },
        "outputId": "20ae6718-40ef-436d-bca5-0c905a060ef1"
      },
      "outputs": [
        {
          "output_type": "stream",
          "name": "stdout",
          "text": [
            "\n",
            "Sample of raw text:\n",
            "\n",
            "my old rags and my sugar-hogshead again, and was free and satisfied. But Tom Sawyer he hunted me up and said he was going to start a band of robbers, and I might join if I would go back to the widow and be respectable. So I went back. The widow she cried over me, and called me a poor lost lamb, and she called me a lot of other names, too, but she never meant no harm by it. She put me in them new clothes again, and I couldn't do nothing but sweat and sweat, and feel all cramped up. Well, then, the old thing commenced again. The widow rung a bell for supper, and you had to come to time. When you got to the table you couldn't go right to eating, but you had to wait for the widow to tuck down her head and grumble a little over the victuals, though there warn't really anything the matter with them,--that is, nothing only everything was cooked by itself. In a barrel of odds and ends it is different; things get mixed up, and the juice kind of swaps around, and the things go better. After supp\n",
            "\n",
            "Sample of processed text:\n",
            "\n",
            "he widow rung a bell for supper and you had to come to time. when you got to the table you couldnt go right to eating but you had to wait for the widow to tuck down her head and grumble a little over the victuals though there warnt really anything the matter with themthat is nothing only everything was cooked by itself. in a barrel of odds and ends it is different things get mixed up and the juice kind of swaps around and the things go better. after supper she got out her book and learned me about moses and the bulrushers and i was in a sweat to find out all about him but by and by she let it out that moses had been dead a considerable long time so then i didnt care no more about him because i dont take no stock in dead people. pretty soon i wanted to smoke and asked the widow to let me. but she wouldnt. she said it was a mean practice and wasnt clean and i must try to not do it any more. that is just the way with some people. they get down on a thing when they dont know nothing about \n"
          ]
        }
      ],
      "source": [
        "print(\"\\nSample of raw text:\\n\")\n",
        "print(huck_finn_text_raw[10000:11000])\n",
        "\n",
        "print(\"\\nSample of processed text:\\n\")\n",
        "print(huck_finn_text[10000:11000])"
      ],
      "id": "cCVyuqz9A8jY"
    },
    {
      "cell_type": "markdown",
      "metadata": {
        "id": "oIFYg_pFA8jY"
      },
      "source": [
        "<img src=\"https://www.gutenberg.org/cache/epub/1342/pg1342.cover.medium.jpg\" width=\"110\" align=\"top\">\n",
        "\n",
        "\n",
        "The online book for \"Pride and Prejudice\", by Jane Austen, is [here](https://www.gutenberg.org/ebooks/1342).\n",
        "And [here](https://www.gutenberg.org/ebooks/158) is the online book for Jane Austen's \"Emma\".  In the following cell we read in both of these books, and remove all characters except a-z, space, and period.\n",
        "\n"
      ],
      "id": "oIFYg_pFA8jY"
    },
    {
      "cell_type": "code",
      "execution_count": null,
      "metadata": {
        "id": "yR9YVXwTA8jZ"
      },
      "outputs": [],
      "source": [
        "pride_and_prejudice_url = 'https://www.gutenberg.org/files/1342/1342-0.txt'\n",
        "pride_and_prejudice_text_raw = read_url(pride_and_prejudice_url)\n",
        "pride_and_prejudice_text = process_text(pride_and_prejudice_text_raw)\n",
        "\n",
        "\n",
        "emma_url = 'https://www.gutenberg.org/files/158/158-0.txt'\n",
        "emma_text_raw = read_url(emma_url)\n",
        "emma_text = process_text(emma_text_raw)"
      ],
      "id": "yR9YVXwTA8jZ"
    },
    {
      "cell_type": "code",
      "execution_count": null,
      "metadata": {
        "id": "omEekrRLA8jZ",
        "colab": {
          "base_uri": "https://localhost:8080/"
        },
        "outputId": "026bac29-0a4d-4043-d373-4733feae543c"
      },
      "outputs": [
        {
          "output_type": "stream",
          "name": "stdout",
          "text": [
            "\n",
            "Sample of raw text:\n",
            "\n",
            " we all are.” Emma spared no exertions to maintain this happier flow of ideas, and hoped, by the help of backgammon, to get her father tolerably through the evening, and be attacked by no regrets but her own. The backgammon-table was placed; but a visitor immediately afterwards walked in and made it unnecessary. Mr. Knightley, a sensible man about seven or eight-and-thirty, was not only a very old and intimate friend of the family, but particularly connected with it, as the elder brother of Isabella’s husband. He lived about a mile from Highbury, was a frequent visitor, and always welcome, and at this time more welcome than usual, as coming directly from their mutual connexions in London. He had returned to a late dinner, after some days’ absence, and now walked up to Hartfield to say that all were well in Brunswick Square. It was a happy circumstance, and animated Mr. Woodhouse for some time. Mr. Knightley had a cheerful manner, which always did him good; and his many inquiries after \n",
            "\n",
            "Sample of processed text:\n",
            "\n",
            "immediately afterwards walked in and made it unnecessary. mr. knightley a sensible man about seven or eightandthirty was not only a very old and intimate friend of the family but particularly connected with it as the elder brother of isabellas husband. he lived about a mile from highbury was a frequent visitor and always welcome and at this time more welcome than usual as coming directly from their mutual connexions in london. he had returned to a late dinner after some days absence and now walked up to hartfield to say that all were well in brunswick square. it was a happy circumstance and animated mr. woodhouse for some time. mr. knightley had a cheerful manner which always did him good and his many inquiries after poor isabella and her children were answered most satisfactorily. when this was over mr. woodhouse gratefully observed it is very kind of you mr. knightley to come out at this late hour to call upon us. i am afraid you must have had a shocking walk. not at all sir. it is a\n"
          ]
        }
      ],
      "source": [
        "print(\"\\nSample of raw text:\\n\")\n",
        "print(emma_text_raw[10000:11000])\n",
        "\n",
        "print(\"\\nSample of processed text:\\n\")\n",
        "print(emma_text[10000:11000])"
      ],
      "id": "omEekrRLA8jZ"
    },
    {
      "cell_type": "markdown",
      "metadata": {
        "id": "C0ISYMcTA8ja"
      },
      "source": [
        "The following cell defines some helper code. You should just run this cell; do not change any of the code.\n",
        "\n",
        "The first function, `ngrams`, takes some input text and a value of `n`. The function then\n",
        "iterates over the string and counts the number of occurrences of each substring of `n` characters. This is done with the very handy `Counter` class.\n",
        "\n",
        "We then define a class `language_model` that is a 4-gram character-based language model. The probability of the \"next character\" is computed using linear interpolation, as described in class.  A weight is assigned to unigrams, bigrams, trigrams, and four-grams (quadgrams?). The bigram probability that, for example, the letter `t` follows the letter `h` is the count of the bigram `ht` divided by the count of the unigram `h`. We add a little bit (1e-10) to the denominator to avoid dividing by zero.\n",
        "\n",
        "We return the logarithm of the probability, because this will be convenient when computing perplexities.\n"
      ],
      "id": "C0ISYMcTA8ja"
    },
    {
      "cell_type": "code",
      "execution_count": null,
      "metadata": {
        "id": "DD6AC4HNA8ja"
      },
      "outputs": [],
      "source": [
        "def ngrams(text, n=2):\n",
        "    return Counter([text[(i-n):i] for i in np.arange(n, len(text)+1)])\n",
        "\n",
        "class language_model:\n",
        "\n",
        "    def __init__(self, text):\n",
        "        self.one = ngrams(text, 1)\n",
        "        self.two = ngrams(text, 2)\n",
        "        self.three = ngrams(text, 3)\n",
        "        self.four = ngrams(text, 4)\n",
        "        self.weight = [0.1, 0.2, 0.3, 0.4]\n",
        "\n",
        "    def set_weights(self, weights):\n",
        "        self.weight = weights / np.sum(weights)\n",
        "\n",
        "    def log_probability(self, gram):\n",
        "        numer = [self.one[gram[3:]], self.two[gram[2:]], self.three[gram[1:]], self.four[gram[0:]]]\n",
        "        denom = [sum(self.one[g] for g in self.one), self.one[gram[2:3]], self.two[gram[1:3]], self.three[gram[0:3]]]\n",
        "        prob = 0\n",
        "        for i in np.arange(4):\n",
        "            prob += self.weight[i] * numer[i] / (denom[i]+1e-10)\n",
        "        return np.log(prob)\n",
        "\n"
      ],
      "id": "DD6AC4HNA8ja"
    },
    {
      "cell_type": "markdown",
      "metadata": {
        "id": "8Vaoft1yA8ja"
      },
      "source": [
        "### Problem 1.1\n",
        "\n",
        "Just to be sure we understand what a character-based language model is, let's write an expression\n",
        "for the probability in an example. Suppose the language model assigns\n",
        "weight $w_1 = 0.1$ to the unigram model, weight $w_2 = 0.2$ to the bigram model, weight $w_3 = 0.3$ to the trigram model, and weight $w_4 = .4$ to the four-gram model. Note that we must have $w_1+w_2+w_3+w_4 = 1$.\n",
        "\n",
        "Write an expression for the probability $p(\\mbox{z} \\,|\\, \\mbox{qui})$ that the letter $\\mbox{z}$ follows the three letters $\\mbox{qui}$. Assume that the unigram, bigram, trigram, and four-gram components are given by ratios of\n",
        "counts in the training data, as in the code above. For example, the bigram probability would be written as\n",
        "\n",
        "$$ \\frac{\\mbox{count}(iz)}{\\mbox{count}(i)}$$\n"
      ],
      "id": "8Vaoft1yA8ja"
    },
    {
      "cell_type": "markdown",
      "metadata": {
        "id": "H_B1lfc9A8jb"
      },
      "source": [
        "`0.4*count(quiz)/count(qui) + 0.3*count(uiz)/count(ui) + 0.2*count(iz)/count(i) + 0.1*count(z)`"
      ],
      "id": "H_B1lfc9A8jb"
    },
    {
      "cell_type": "markdown",
      "metadata": {
        "id": "-k-AMWlWA8jb"
      },
      "source": [
        "Now, the cell below constructs two language models, one on the text of Jane Austen's \"Emma\", the other on\n",
        "the text of Mark Twain's \"Huckleberry Finn\"."
      ],
      "id": "-k-AMWlWA8jb"
    },
    {
      "cell_type": "code",
      "execution_count": null,
      "metadata": {
        "id": "NuwMaHMhA8jb"
      },
      "outputs": [],
      "source": [
        "emma_lm = language_model(emma_text)\n",
        "huck_finn_lm = language_model(huck_finn_text)"
      ],
      "id": "NuwMaHMhA8jb"
    },
    {
      "cell_type": "markdown",
      "metadata": {
        "id": "1g0JfSETA8jb"
      },
      "source": [
        "\n"
      ],
      "id": "1g0JfSETA8jb"
    },
    {
      "cell_type": "markdown",
      "metadata": {
        "id": "QGN0vUNCA8jb"
      },
      "source": [
        "### Problem 1.2\n",
        "\n",
        "In this sub-problem, your job is to write a function that takes a language model `lm`, and a text string `text`, and computes the perplexity of the language model on the text.\n",
        "\n",
        "Hints:\n",
        "* Your function can ignore the first three characters of the text. Thus, you can begin predicting the fourth character from the first three.\n",
        "* Either extract the sequence of 4-character substrings, or make a call to `ngrams(text, n=4)` to get a set of 4-grams and their counts on the text.\n",
        "* Compute the logarithm of probability of the text. If you compute the probability, you will get a very tiny number and numerical \"underflow\".\n",
        "* Use the function `lm.log_probability` where `lm` is a instance of the class `language_model`. For example, `emma_lm.log_probability('emma')` will compute the logarithm of the probability that the character \"a\" follows the three characters \"emm\" using the language model computed on Jane Austen's \"Emma\".\n",
        "* Once you have the logarithm of the probability of the entire text, you'll need to scale appropriately and then take the exponential, using `np.exp`.\n",
        "* Work out the formula by \"pencil and paper\" before trying to write the function.\n"
      ],
      "id": "QGN0vUNCA8jb"
    },
    {
      "cell_type": "code",
      "execution_count": null,
      "metadata": {
        "id": "6LgvxLceA8jc"
      },
      "outputs": [],
      "source": [
        "def compute_perplexity(text, lm):\n",
        "  Prob = 1\n",
        "  total_count = 0\n",
        "  windows = ngrams(text, n=4)\n",
        "  for window in windows:\n",
        "    count = windows[window]\n",
        "    Prob = Prob + (lm.log_probability(window)*count)\n",
        "    total_count = total_count + count\n",
        "  Prob = Prob/total_count\n",
        "  return np.exp(-1*Prob)"
      ],
      "id": "6LgvxLceA8jc"
    },
    {
      "cell_type": "markdown",
      "metadata": {
        "id": "HAXiZC6oA8jc"
      },
      "source": [
        "### Problem 1.3\n",
        "\n",
        "To test your implementation of the perplexity function, evaluate the followign cell. This\n",
        "computes the perplexity of the \"Emma\" language model on all four of the books: \"Emma\", \"Pride and Prejudice\", \"Huckleberry Finn\", and \"Connecticut Yankee\". For this problem, you will be graded on whether or not you get the correct four numbers for each of these perplexities.\n",
        "\n",
        "Just run the following cell, which will evaluate the perplexities and print them out. No need to modify the code."
      ],
      "id": "HAXiZC6oA8jc"
    },
    {
      "cell_type": "code",
      "execution_count": null,
      "metadata": {
        "scrolled": true,
        "id": "cLbsB5bgA8jc",
        "colab": {
          "base_uri": "https://localhost:8080/"
        },
        "outputId": "6c995ff5-5268-4527-f2bf-a16db5ad7282"
      },
      "outputs": [
        {
          "output_type": "stream",
          "name": "stdout",
          "text": [
            "Perplexity on Huckleberry Finn: 6.42\n",
            "Perplexity on Connecticut Yankee: 6.17\n",
            "Perplexity on Pride and Prejudice: 5.49\n",
            "Perplexity on Emma: 5.11\n"
          ]
        }
      ],
      "source": [
        "hf_perp = compute_perplexity(huck_finn_text, emma_lm)\n",
        "ct_perp = compute_perplexity(ct_yankee_text, emma_lm)\n",
        "pp_perp = compute_perplexity(pride_and_prejudice_text, emma_lm)\n",
        "em_perp = compute_perplexity(emma_text, emma_lm)\n",
        "\n",
        "print(\"Perplexity on Huckleberry Finn: %.2f\" % hf_perp)\n",
        "print(\"Perplexity on Connecticut Yankee: %.2f\" % ct_perp)\n",
        "print(\"Perplexity on Pride and Prejudice: %.2f\" % pp_perp)\n",
        "print(\"Perplexity on Emma: %.2f\" % em_perp)\n"
      ],
      "id": "cLbsB5bgA8jc"
    },
    {
      "cell_type": "markdown",
      "metadata": {
        "id": "GTSWSdQwA8jc"
      },
      "source": [
        "### Problem 1.4\n",
        "\n",
        "Now, interpret your results above. Explain the meaning of perplexity for a character-based language model. Which book has the lowest perpexity? Why is this? Which book has the second smallest perplexity? Does this make sense? Explain.\n",
        "\n"
      ],
      "id": "GTSWSdQwA8jc"
    },
    {
      "cell_type": "markdown",
      "metadata": {
        "id": "ojt3pOMxA8jd"
      },
      "source": [
        "Perplexity is an intrinstic method for evaluating language based models. A perplexity of 5 in this example would indicate that there are 5 letters that are predicted to be equally like to occur as the fourth letter in a four-gram after a given trigram in the text on average.\n",
        "\n",
        "I found that Emma had the lowest perplexity, which makes sense because it was used to train the model. The book with the second smallest perplexity is Pride and Prejudice, which makes sense because it was also written by Jane Austen.\n"
      ],
      "id": "ojt3pOMxA8jd"
    },
    {
      "cell_type": "markdown",
      "metadata": {
        "id": "dQdvA7kCA8jd"
      },
      "source": [
        "### Problem 1.5\n",
        "\n",
        "Next, mix it up by computing the perplexity of the \"Huckleberry Finn\" language model on each of the four books. Comment on your findings."
      ],
      "id": "dQdvA7kCA8jd"
    },
    {
      "cell_type": "code",
      "source": [
        "hf_perp = compute_perplexity(huck_finn_text, huck_finn_lm)\n",
        "ct_perp = compute_perplexity(ct_yankee_text, huck_finn_lm)\n",
        "pp_perp = compute_perplexity(pride_and_prejudice_text, huck_finn_lm)\n",
        "em_perp = compute_perplexity(emma_text, huck_finn_lm)\n",
        "\n",
        "print(\"Perplexity on Huckleberry Finn: %.2f\" % hf_perp)\n",
        "print(\"Perplexity on Connecticut Yankee: %.2f\" % ct_perp)\n",
        "print(\"Perplexity on Pride and Prejudice: %.2f\" % pp_perp)\n",
        "print(\"Perplexity on Emma: %.2f\" % em_perp)"
      ],
      "metadata": {
        "colab": {
          "base_uri": "https://localhost:8080/"
        },
        "id": "vF3eGUAEQcO-",
        "outputId": "972b9539-070f-4217-bf97-81dfe7deeab6"
      },
      "id": "vF3eGUAEQcO-",
      "execution_count": null,
      "outputs": [
        {
          "output_type": "stream",
          "name": "stdout",
          "text": [
            "Perplexity on Huckleberry Finn: 5.12\n",
            "Perplexity on Connecticut Yankee: 6.17\n",
            "Perplexity on Pride and Prejudice: 6.46\n",
            "Perplexity on Emma: 6.44\n"
          ]
        }
      ]
    },
    {
      "cell_type": "markdown",
      "metadata": {
        "id": "M7SG3oBcA8jd"
      },
      "source": [
        "As expected, since the Huckleberry Finn model was used, it now has the lowest perplexity. The Perplexity of the Jane Austen novels has increased dramatically in comparison to when the Emma model was used.\n"
      ],
      "id": "M7SG3oBcA8jd"
    },
    {
      "cell_type": "markdown",
      "metadata": {
        "id": "HjafZdDQA8jd"
      },
      "source": [
        "### Problem 1.6\n",
        "\n",
        "Finally, in this problem you should explore the choice of the weights assigned to unigrams, bigrams, trigrams, and four-grams. Recall that to set the weights on the language model `lm` you can use a function call like\n",
        "`lm.set_weights([.25, .25, .25, .25])`\n",
        "\n",
        "1. Try to find weights for the \"Emma\" model so that the perplexity of \"Pride and Prejudice\" is as small as possible. What weights do you find? Do these weights make sense to you?\n",
        "\n",
        "\n",
        "2. Try to find weights for the \"Emma\" model so that the perplexity of \"Huckleberry Finn\" is as small as possible. What happens to the perplexity for \"Pride and Prejudice\"? Does this perplexity exceed that of \"Huck Finn\"? How do the weights you find compare to those you found above? Can you explain intuitively why they are different?\n"
      ],
      "id": "HjafZdDQA8jd"
    },
    {
      "cell_type": "code",
      "source": [
        "smallest_perplexity = 100\n",
        "best_weights = [0,0,0,0]\n",
        "\n",
        "n = 20\n",
        "\n",
        "for i in range (n):\n",
        "  good = True\n",
        "  weight_1 = (i+1)/n\n",
        "  for j in range (n):\n",
        "    weight_2 = (j+1)/n\n",
        "    if ((weight_1 + weight_2) >= 1):\n",
        "      good = False\n",
        "    for k in range(n):\n",
        "      weight_3 = (k+1)/n\n",
        "      if ((weight_1 + weight_2 + weight_3) >= 1):\n",
        "        good = False\n",
        "      weight_4 = round(1 - weight_1 - weight_2 - weight_3,4)\n",
        "      if (good == True):\n",
        "        emma_lm.set_weights([weight_1, weight_2, weight_3, weight_4])\n",
        "        pp_perp = compute_perplexity(pride_and_prejudice_text, emma_lm)\n",
        "        #print (pp_perp)\n",
        "        #print ([weight_1, weight_2, weight_3, weight_4])\n",
        "        if (pp_perp < smallest_perplexity):\n",
        "          smallest_perplexity = pp_perp\n",
        "          best_weights = [weight_1, weight_2, weight_3, weight_4]\n",
        "\n",
        "print ('Best Perplexity: ' + str(smallest_perplexity))\n",
        "print ('Best Weights: ' + str(best_weights))"
      ],
      "metadata": {
        "colab": {
          "base_uri": "https://localhost:8080/"
        },
        "id": "uRUgFLrxiFRh",
        "outputId": "65276155-6443-430d-e6ea-434064b28b47"
      },
      "id": "uRUgFLrxiFRh",
      "execution_count": null,
      "outputs": [
        {
          "output_type": "stream",
          "name": "stdout",
          "text": [
            "Best Perplexity: 4.673866719759413\n",
            "Best Weights: [0.05, 0.05, 0.05, 0.85]\n"
          ]
        }
      ]
    },
    {
      "cell_type": "markdown",
      "metadata": {
        "id": "tcZGUtzfA8je"
      },
      "source": [
        "It makes sense that the emma model when weighted to optimize pride and prejudice perplexity would foucs on the final fourth letter the most since that is the decision where the computer had the most information going into its predictive model. If a model is good (and the emma one should work well for pride and prejudice since Jane Austen wrote both novels) then more information results in more accurate predictions.\n"
      ],
      "id": "tcZGUtzfA8je"
    },
    {
      "cell_type": "code",
      "source": [
        "smallest_perplexity = 100\n",
        "best_weights = [0,0,0,0]\n",
        "\n",
        "n = 20\n",
        "\n",
        "for i in range (n):\n",
        "  good = True\n",
        "  weight_1 = (i+1)/n\n",
        "  for j in range (n):\n",
        "    weight_2 = (j+1)/n\n",
        "    if ((weight_1 + weight_2) >= 1):\n",
        "      good = False\n",
        "    for k in range(n):\n",
        "      weight_3 = (k+1)/n\n",
        "      if ((weight_1 + weight_2 + weight_3) >= 1):\n",
        "        good = False\n",
        "      weight_4 = round(1 - weight_1 - weight_2 - weight_3,4)\n",
        "      if (good == True):\n",
        "        emma_lm.set_weights([weight_1, weight_2, weight_3, weight_4])\n",
        "        hf_perp = compute_perplexity(huck_finn_text, emma_lm)\n",
        "        #print (pp_perp)\n",
        "        #print ([weight_1, weight_2, weight_3, weight_4])\n",
        "        if (hf_perp < smallest_perplexity):\n",
        "          smallest_perplexity = hf_perp\n",
        "          best_weights = [weight_1, weight_2, weight_3, weight_4]\n",
        "\n",
        "emma_lm.set_weights(best_weights)\n",
        "pp_perp = compute_perplexity(pride_and_prejudice_text, emma_lm)\n",
        "print ('Huck Finn Perplexity: ' + str(smallest_perplexity))\n",
        "print ('Pride and Prejudice Perplexity: '+ str(pp_perp))\n",
        "print ('Best Weights for Emma lm applied to huck finn: ' + str(best_weights))"
      ],
      "metadata": {
        "colab": {
          "base_uri": "https://localhost:8080/"
        },
        "id": "ZmpkSDhwmtxM",
        "outputId": "196f28f1-f704-41b6-905c-be848a81a088"
      },
      "id": "ZmpkSDhwmtxM",
      "execution_count": null,
      "outputs": [
        {
          "output_type": "stream",
          "name": "stdout",
          "text": [
            "Huck Finn Perplexity: 6.023450654232405\n",
            "Pride and Prejudice Perplexity: 4.787823571696731\n",
            "Best Weights for Emma lm applied to huck finn: [0.05, 0.05, 0.2, 0.7]\n"
          ]
        }
      ]
    },
    {
      "cell_type": "markdown",
      "source": [
        "The Emma model performed worse on the Huck Finn book than Pride and Prejudice, even though it was weighted to minimize Huckleberry Finn perplexity. This is because the Emma model presupposes that the author will write in a Jane Austen style. Since the Huckleberry Finn novel is less well modeled by the Emma model it makes sense that the weights are more distributed than in 1.6.1 above.\n",
        "\n",
        "\n",
        "\n",
        "1.6.1 weights: (0.05, 0.05, 0.05, 0.85)\n",
        "\n",
        "Concentrates weight on prediction of final letter\n",
        "\n",
        "1.6.2 weights: (0.05, 0.05, 0.2, 0.7)\n",
        "\n",
        "Concentrates weight on last two letters since Emma model is less accurate for a Twain book."
      ],
      "metadata": {
        "id": "pGCmDSPdqJi_"
      },
      "id": "pGCmDSPdqJi_"
    },
    {
      "cell_type": "markdown",
      "metadata": {
        "id": "-GzZ_qv7A8je"
      },
      "source": [
        "### Problem 1.7 (Extra credit: 2 points)\n",
        "\n",
        "Choose two books from the Gutenberg collection that are by the same author (different from Twain and Austen). Build a language model on one of the books, and test, by evaluating perplexity, on all of the other books, five books in all.  Where does the second book of the new author rank? Do the result make sense? Comment on your findings."
      ],
      "id": "-GzZ_qv7A8je"
    },
    {
      "cell_type": "code",
      "source": [
        "hermit_url = 'https://www.gutenberg.org/cache/epub/69323/pg69323.txt'\n",
        "hermit_text_raw = read_url(hermit_url)\n",
        "hermit_text = process_text(hermit_text_raw)\n",
        "\n",
        "girl_spy_url = 'https://www.gutenberg.org/files/56620/56620-0.txt'\n",
        "girl_spy_text_raw = read_url(girl_spy_url)\n",
        "girl_spy_text = process_text(girl_spy_text_raw)\n",
        "\n",
        "hermit_lm = language_model(hermit_text)\n",
        "\n",
        "hf_perp = compute_perplexity(huck_finn_text, hermit_lm)\n",
        "ct_perp = compute_perplexity(ct_yankee_text, hermit_lm)\n",
        "pp_perp = compute_perplexity(pride_and_prejudice_text, hermit_lm)\n",
        "em_perp = compute_perplexity(emma_text, hermit_lm)\n",
        "ht_perp = compute_perplexity(hermit_text, hermit_lm)\n",
        "gs_perp = compute_perplexity(girl_spy_text, hermit_lm)\n",
        "\n",
        "print(\"Perplexity on Hermit of the Hills: %.2f\" % ht_perp)\n",
        "print(\"Perplexity on Girl Spy: %.2f\" % gs_perp)\n",
        "print(\"Perplexity on Huckleberry Finn: %.2f\" % hf_perp)\n",
        "print(\"Perplexity on Connecticut Yankee: %.2f\" % ct_perp)\n",
        "print(\"Perplexity on Pride and Prejudice: %.2f\" % pp_perp)\n",
        "print(\"Perplexity on Emma: %.2f\" % em_perp)\n",
        "\n",
        "\n"
      ],
      "metadata": {
        "colab": {
          "base_uri": "https://localhost:8080/"
        },
        "id": "zTGwPbRWsXXu",
        "outputId": "d842561f-0eef-4775-9fdc-b2e3fc8c2b3a"
      },
      "id": "zTGwPbRWsXXu",
      "execution_count": null,
      "outputs": [
        {
          "output_type": "stream",
          "name": "stdout",
          "text": [
            "Perplexity on Hermit of the Hills: 5.22\n",
            "Perplexity on Girl Spy: 6.14\n",
            "Perplexity on Huckleberry Finn: 6.46\n",
            "Perplexity on Connecticut Yankee: 6.19\n",
            "Perplexity on Pride and Prejudice: 6.25\n",
            "Perplexity on Emma: 6.34\n"
          ]
        }
      ]
    },
    {
      "cell_type": "markdown",
      "source": [
        "I chose to use the books Hermit of the Hills and Girl Spy by Whittaker. Of note, Hermit of the Hills, which I made the model from has the lowest perplexity while Girl Spy, which has the same author, has the next smallest perplexity."
      ],
      "metadata": {
        "id": "w-EfikGdtlQS"
      },
      "id": "w-EfikGdtlQS"
    },
    {
      "cell_type": "markdown",
      "metadata": {
        "id": "IgIvc211A8je"
      },
      "source": [
        "### Problem 2: Word embedding experiments (15 points)\n",
        "\n",
        "In this problem you will run experiments on word embeddings using two different algorithms or configurations: (1) word2vec embeddings trained on the \"text8\" Wikipedia corpus (2) GloVe embeddings pre-trained on a much larger corpus.\n",
        "\n",
        "The text8 data are described here: http://mattmahoney.net/dc/textdata.html. The text8 file is a 100MB excerpt of Wikipedia. This small dataset is sufficient for our exploratory purposes, but note that it is far too small for any real application.\n",
        "In the next few parts of this problem, you will construct word embeddings from the Wikipedia data."
      ],
      "id": "IgIvc211A8je"
    },
    {
      "cell_type": "markdown",
      "metadata": {
        "id": "y1wWKhwZA8je"
      },
      "source": [
        "`word2Vec` is a popular word embedding method. The following code will construct 100 dimensional embeddings on the text8 data.\n",
        "\n",
        "Note: If you got the error message \"unexpected keyword argument 'size'\", it is because you are using a later version of gensim. You can solve the problem by using vector_size instead of size."
      ],
      "id": "y1wWKhwZA8je"
    },
    {
      "cell_type": "code",
      "execution_count": null,
      "metadata": {
        "scrolled": false,
        "id": "rpgC_y_GA8je",
        "colab": {
          "base_uri": "https://localhost:8080/"
        },
        "outputId": "ff1aeb13-cebe-42bc-f397-9cc8afb752e1"
      },
      "outputs": [
        {
          "output_type": "stream",
          "name": "stdout",
          "text": [
            "Looking in indexes: https://pypi.org/simple, https://us-python.pkg.dev/colab-wheels/public/simple/\n",
            "Requirement already satisfied: gensim in /usr/local/lib/python3.7/dist-packages (3.6.0)\n",
            "Requirement already satisfied: six>=1.5.0 in /usr/local/lib/python3.7/dist-packages (from gensim) (1.15.0)\n",
            "Requirement already satisfied: scipy>=0.18.1 in /usr/local/lib/python3.7/dist-packages (from gensim) (1.7.3)\n",
            "Requirement already satisfied: smart-open>=1.2.1 in /usr/local/lib/python3.7/dist-packages (from gensim) (5.2.1)\n",
            "Requirement already satisfied: numpy>=1.11.3 in /usr/local/lib/python3.7/dist-packages (from gensim) (1.21.6)\n"
          ]
        }
      ],
      "source": [
        "! pip install gensim\n",
        "# import smart_open\n",
        "import gensim\n",
        "from gensim.models import word2vec\n",
        "import logging\n",
        "logging.basicConfig(format='%(asctime)s : %(levelname)s : %(message)s', \\\n",
        "                    level=logging.INFO)\n",
        "sentences = word2vec.Text8Corpus('https://raw.githubusercontent.com/YData123/sds265-fa22/master/assignments/assn4/text8')\n",
        "model = word2vec.Word2Vec(sentences, size=100, window=10, min_count=10)"
      ],
      "id": "rpgC_y_GA8je"
    },
    {
      "cell_type": "markdown",
      "metadata": {
        "id": "JaUqiRNqA8je"
      },
      "source": [
        "The dictionary `model.wv`, keyed by words (as strings), has values which are the word embeddings (as numpy arrays)."
      ],
      "id": "JaUqiRNqA8je"
    },
    {
      "cell_type": "markdown",
      "metadata": {
        "id": "cl-GgQG9A8je"
      },
      "source": [
        "We will also work with pre-trained GloVe embeddings. These embeddings were trained on a large corpus containing 6 billion tokens. You can load these embedding vectors using this code:"
      ],
      "id": "cl-GgQG9A8je"
    },
    {
      "cell_type": "code",
      "execution_count": null,
      "metadata": {
        "id": "UdSpGjaBA8jf"
      },
      "outputs": [],
      "source": [
        "import gensim.downloader as gdl\n",
        "glove = gdl.load(\"glove-wiki-gigaword-100\")"
      ],
      "id": "UdSpGjaBA8jf"
    },
    {
      "cell_type": "markdown",
      "metadata": {
        "id": "e13nKNueA8jf"
      },
      "source": [
        "Here is a sample evaluation: puppy is to dog as what is to kitten?"
      ],
      "id": "e13nKNueA8jf"
    },
    {
      "cell_type": "code",
      "execution_count": null,
      "metadata": {
        "id": "NJPWvDEKA8jf",
        "colab": {
          "base_uri": "https://localhost:8080/"
        },
        "outputId": "73cb1fe3-c938-4cd2-c5a3-c076a4692c8d"
      },
      "outputs": [
        {
          "output_type": "execute_result",
          "data": {
            "text/plain": [
              "('cat', 0.6935379505157471)"
            ]
          },
          "metadata": {},
          "execution_count": 95
        }
      ],
      "source": [
        "glove.most_similar(positive = ['dog', 'kitten'], negative = ['puppy'])[0]"
      ],
      "id": "NJPWvDEKA8jf"
    },
    {
      "cell_type": "markdown",
      "metadata": {
        "id": "AhP4UutlA8jf"
      },
      "source": [
        "####  Experiments\n",
        "\n",
        "Conduct the following experiments with **both sets of embeddings**: the local word2vec embeddings, and the pre-trained GloVe embeddings. Based on the available memory on your computer, you may need to perform the experiments for each set of embeddings in a fresh Python session. Comment on the qualitative differences in the results for each of the embeddings.\n",
        "\n",
        "\n",
        "#### 2.1 Find the closest words\n",
        "\n",
        "For each of the following words, find the 5 closest words in the embedding space, and report your results:\n",
        "\n",
        "          yale, physics, dessert, einstein, algebra, fish\n",
        "          \n",
        "Here, \"closest\" means in terms of cosine similarity. See the gensim documentation; you might want to use the most similar function, or a related function. Choose five other query words yourself, and for each of them show the closest words in the embedding space. Comment on your findings."
      ],
      "id": "AhP4UutlA8jf"
    },
    {
      "cell_type": "code",
      "execution_count": null,
      "metadata": {
        "id": "pxn6SqJsA8jf",
        "colab": {
          "base_uri": "https://localhost:8080/"
        },
        "outputId": "49f9fbd3-e9d0-4ff4-bfea-24eccd52823c"
      },
      "outputs": [
        {
          "output_type": "stream",
          "name": "stdout",
          "text": [
            "Word: yale\n",
            "('harvard', 0.9161344766616821)\n",
            "('princeton', 0.867539644241333)\n",
            "('university', 0.8113802671432495)\n",
            "('cornell', 0.8014455437660217)\n",
            "('stanford', 0.787754476070404)\n",
            "\n",
            "Word: physics\n",
            "('chemistry', 0.8498000502586365)\n",
            "('mathematics', 0.834094762802124)\n",
            "('science', 0.7914698719978333)\n",
            "('biology', 0.7894973158836365)\n",
            "('theoretical', 0.7342938780784607)\n",
            "\n",
            "Word: dessert\n",
            "('desserts', 0.8192153573036194)\n",
            "('cake', 0.7649705410003662)\n",
            "('delicious', 0.7600687146186829)\n",
            "('chocolate', 0.738676905632019)\n",
            "('cakes', 0.7226456999778748)\n",
            "\n",
            "Word: einstein\n",
            "('relativity', 0.6908349394798279)\n",
            "('freud', 0.6417257785797119)\n",
            "('physics', 0.6145339012145996)\n",
            "('bohr', 0.6144247055053711)\n",
            "('theory', 0.6042598485946655)\n",
            "\n",
            "Word: algebra\n",
            "('algebras', 0.7539783716201782)\n",
            "('geometry', 0.6790961027145386)\n",
            "('algebraic', 0.6474162340164185)\n",
            "('boolean', 0.6418250799179077)\n",
            "('commutative', 0.6322143077850342)\n",
            "\n",
            "Word: fish\n",
            "('shrimp', 0.7793381214141846)\n",
            "('salmon', 0.7608143091201782)\n",
            "('tuna', 0.7485246658325195)\n",
            "('meat', 0.7119255065917969)\n",
            "('seafood', 0.6940563321113586)\n",
            "\n",
            "Word: computer\n",
            "('computers', 0.875198245048523)\n",
            "('software', 0.8373122215270996)\n",
            "('technology', 0.7642159461975098)\n",
            "('pc', 0.7366448640823364)\n",
            "('hardware', 0.7290390729904175)\n",
            "\n",
            "Word: orange\n",
            "('yellow', 0.7358632683753967)\n",
            "('red', 0.7140781283378601)\n",
            "('blue', 0.7118035554885864)\n",
            "('green', 0.71114182472229)\n",
            "('pink', 0.677507221698761)\n",
            "\n",
            "Word: wood\n",
            "('stone', 0.7226637601852417)\n",
            "('wooden', 0.6579731702804565)\n",
            "('brick', 0.6500040292739868)\n",
            "('glass', 0.6468873023986816)\n",
            "('timber', 0.6377842426300049)\n",
            "\n",
            "Word: lullaby\n",
            "('lullabies', 0.700669527053833)\n",
            "('ode', 0.6519687175750732)\n",
            "('ballad', 0.6464927196502686)\n",
            "('winterreise', 0.593380331993103)\n",
            "('serenade', 0.5889183878898621)\n",
            "\n",
            "Word: soft\n",
            "('thin', 0.6638059616088867)\n",
            "('hot', 0.6601648330688477)\n",
            "('solid', 0.6587600708007812)\n",
            "('hard', 0.6268417835235596)\n",
            "('dry', 0.6237847805023193)\n",
            "\n"
          ]
        }
      ],
      "source": [
        "# your code and markdown here\n",
        "\n",
        "words = ['yale', 'physics', 'dessert', 'einstein', 'algebra', 'fish', 'computer', 'orange', 'wood', 'lullaby', 'soft']\n",
        "for word in words:\n",
        "  print(\"Word: \" + word)\n",
        "  nearest = glove.most_similar(word, topn=5)\n",
        "  for value in nearest:\n",
        "    print (value)\n",
        "  print ()\n"
      ],
      "id": "pxn6SqJsA8jf"
    },
    {
      "cell_type": "markdown",
      "source": [
        "The words outputted are quite similar to the input in theme, which is promising. I think it is interesting that I entered the word orange, expecting to get results that were both colors and fruits, but only color related words were printed. I am wondering what the best way of dealing with homonyms like this in the English language for machine learning models."
      ],
      "metadata": {
        "id": "_zZyu_JqX1ah"
      },
      "id": "_zZyu_JqX1ah"
    },
    {
      "cell_type": "markdown",
      "metadata": {
        "id": "VrjptGCRA8jf"
      },
      "source": [
        "#### 2.2 Complete analogies\n",
        "\n",
        "A surprising consequence of some word embedding methods is that they can be used to resolve analogies, like\n",
        "\n",
        "                   france :  paris ::  england :  ?\n",
        "                   \n",
        "You can \"solve\" this analogy by computing the nearest embedding vector to $v$ where, $v = v_{paris} − v_{france} + v_{england}$.\n",
        "\n",
        "Solve the following analogies with both sets of word embeddings and report your results:\n",
        "\n",
        "                   france :  paris ::  england :  ?\n",
        "                   france :  paris ::  germany :  ?\n",
        "                     queen :  woman ::  king :  ?\n",
        "                     \n",
        "Choose five other analogies yourself, and report the results."
      ],
      "id": "VrjptGCRA8jf"
    },
    {
      "cell_type": "code",
      "execution_count": null,
      "metadata": {
        "id": "Z4zYFYPcA8jg",
        "colab": {
          "base_uri": "https://localhost:8080/"
        },
        "outputId": "8770e601-2cf8-4964-f029-4723df1a920c"
      },
      "outputs": [
        {
          "output_type": "stream",
          "name": "stdout",
          "text": [
            "man: boy, ?: girl\n",
            "[('woman', 0.889847993850708)]\n",
            "\n",
            "toe: foot, ?: hand\n",
            "[('hands', 0.5827762484550476)]\n",
            "\n",
            "morning: breakfast, ?: dinner\n",
            "('afternoon', 0.8623547554016113)\n",
            "\n",
            "hot: fire, ?: ice\n",
            "('cream', 0.6734268665313721)\n",
            "\n",
            "day:sun, ?: moon\n",
            "('days', 0.65714031457901)\n",
            "\n"
          ]
        }
      ],
      "source": [
        "# your code and markdown here\n",
        "\n",
        "print (\"man: boy, ?: girl\")\n",
        "print (glove.most_similar(positive=['man', 'girl'], negative=['boy'], topn=1))\n",
        "print ()\n",
        "\n",
        "print (\"toe: foot, ?: hand\")\n",
        "print (glove.most_similar(positive=['toe', 'hand'], negative=['foot'], topn = 1))\n",
        "print ()\n",
        "\n",
        "print (\"morning: breakfast, ?: dinner\")\n",
        "print (glove.most_similar(positive=['morning', 'dinner'], negative=['breakfast'])[0])\n",
        "print ()\n",
        "\n",
        "print (\"hot: fire, ?: ice\")\n",
        "print (glove.most_similar(positive=['hot', 'ice'], negative=['fire'])[0])\n",
        "print ()\n",
        "\n",
        "print (\"day:sun, ?: moon\")\n",
        "print (glove.most_similar(positive=['day', 'moon'], negative=['sun'])[0])\n",
        "print ()\n"
      ],
      "id": "Z4zYFYPcA8jg"
    },
    {
      "cell_type": "markdown",
      "metadata": {
        "id": "Xdc8CFzyA8jg"
      },
      "source": [
        "#### 2.3 Visualize embeddings\n",
        "\n",
        "Use the t-SNE dimensionality reduction technique to visualize the embeddings in two dimensions. The sample code below will perform the t-SNE method on a subset of the vocabulary. You can start with this code and modify it to construct visualizations of the embeddings, or start with your own version of t-SNE.\n",
        "The code provided shows the relative positions of the words conservative, liberal, elephant, and donkey based on GloVe embeddings. For your local embeddings, you may use similar code to visualize the embeddings.\n",
        "\n",
        "Find at least three more examples that produce expected results and three examples that produce surprising results for each of the two language models. Include the plots in your write-up. Give reasons why you might see surprising behavior here."
      ],
      "id": "Xdc8CFzyA8jg"
    },
    {
      "cell_type": "code",
      "execution_count": null,
      "metadata": {
        "id": "E1SUpEFgA8jg"
      },
      "outputs": [],
      "source": [
        "%matplotlib inline\n",
        "import numpy as np\n",
        "import matplotlib.pyplot as plt\n",
        "from sklearn.manifold import TSNE\n",
        "\n",
        "\n",
        "# this functions computes and displays the 2-d t-SNE maps for a subset of the embedding vectors\n",
        "# and displays them together with the points for a set of input words.\n",
        "\n",
        "def display_tsne_neighborhood(model, input_word, nsample=1000, size1=2, size2=10, offset=5):\n",
        "\n",
        "    arr = np.empty((0,100), dtype='f')\n",
        "    word_label = input_word\n",
        "\n",
        "    # add the vector for each of the closest words to the array\n",
        "    for w in range(len(input_word)):\n",
        "        arr = np.append(arr, np.array([model[input_word[w]]]), axis=0)\n",
        "\n",
        "    voc = [w for w in model.vocab]\n",
        "    wrds = np.random.choice(range(len(voc)), size=nsample, replace=False)\n",
        "    for w in wrds:\n",
        "        wrd_vector = model[voc[w]]\n",
        "        arr = np.append(arr, np.array([wrd_vector]), axis=0)\n",
        "\n",
        "    # find tsne coords for 2 dimensions\n",
        "    tsne = TSNE(n_components=2, random_state=0)\n",
        "    np.set_printoptions(suppress=True)\n",
        "    Y = tsne.fit_transform(arr)\n",
        "\n",
        "    x_coord = Y[:, 0]\n",
        "    y_coord = Y[:, 1]\n",
        "    # display scatter plot\n",
        "    size=0.5\n",
        "    plt.scatter(x_coord, y_coord, s=size1)\n",
        "    plt.scatter(x_coord[0:len(input_word)], y_coord[0:len(input_word)],s=size2)\n",
        "\n",
        "    # label the input words\n",
        "    for w in range(len(input_word)):\n",
        "        plt.annotate(input_word[w], xy=(x_coord[w],y_coord[w]), \\\n",
        "                     xytext=(w*offset,w*offset), textcoords='offset points')\n",
        "    plt.show()"
      ],
      "id": "E1SUpEFgA8jg"
    },
    {
      "cell_type": "code",
      "execution_count": null,
      "metadata": {
        "id": "muBeIFJfA8jg",
        "colab": {
          "base_uri": "https://localhost:8080/",
          "height": 3695
        },
        "outputId": "79746463-acfc-47f9-d3e5-140e22a5a22e"
      },
      "outputs": [
        {
          "output_type": "display_data",
          "data": {
            "text/plain": [
              "<Figure size 720x720 with 1 Axes>"
            ],
            "image/png": "[encoded data removed]"
          },
          "metadata": {
            "needs_background": "light"
          }
        },
        {
          "output_type": "stream",
          "name": "stdout",
          "text": [
            "The list of input words was: ['conservative', 'liberal', 'donkey', 'elephant']\n",
            "I find it interesting that liberal and conservative are very close\n",
            "together while donkey and elephant are very close together in the model. \n",
            "This is because while a human may know that the elephant is the symbol of\n",
            "the GOP, this is difficult for a computer to know without political context,\n",
            "and it instead classifies the elephant as an animal rather than a symbol.\n"
          ]
        },
        {
          "output_type": "display_data",
          "data": {
            "text/plain": [
              "<Figure size 720x720 with 1 Axes>"
            ],
            "image/png": "[encoded data removed]"
          },
          "metadata": {
            "needs_background": "light"
          }
        },
        {
          "output_type": "stream",
          "name": "stdout",
          "text": [
            "The list of input words was: ['apple', 'banana', 'red', 'yellow']\n",
            "I was suprised that apple was so far away from banana, red, and yellow.\n",
            "I was expecting it to be near banana, the other fruit.\n"
          ]
        },
        {
          "output_type": "display_data",
          "data": {
            "text/plain": [
              "<Figure size 720x720 with 1 Axes>"
            ],
            "image/png": "[encoded data removed]"
          },
          "metadata": {
            "needs_background": "light"
          }
        },
        {
          "output_type": "stream",
          "name": "stdout",
          "text": [
            "The list of input words was: ['orange', 'apple', 'plum', 'blue']\n",
            "I was unsuprised that the colors all congregated in the same area\n",
            "since they are all used similarly in speech\n"
          ]
        },
        {
          "output_type": "display_data",
          "data": {
            "text/plain": [
              "<Figure size 720x720 with 1 Axes>"
            ],
            "image/png": "[encoded data removed]"
          },
          "metadata": {
            "needs_background": "light"
          }
        },
        {
          "output_type": "stream",
          "name": "stdout",
          "text": [
            "The list of input words was: ['right', 'left', 'correct',\n",
            "'wrong', 'conservative']\n",
            "I was expecting right to be close to conservative, but instad, \n",
            "conservative was by itself while the other four were clustered together.\n"
          ]
        },
        {
          "output_type": "display_data",
          "data": {
            "text/plain": [
              "<Figure size 720x720 with 1 Axes>"
            ],
            "image/png": "[encoded data removed]"
          },
          "metadata": {
            "needs_background": "light"
          }
        },
        {
          "output_type": "stream",
          "name": "stdout",
          "text": [
            "The list of input words was: ['zoo', 'pig', 'farm', 'lion']\n",
            "I was expecting zoo and farm to be together since they are places while\n",
            "pig and lion are together because they are animals\n",
            "Instead, lion was separate from the other three words, which I found suprising.\n"
          ]
        },
        {
          "output_type": "display_data",
          "data": {
            "text/plain": [
              "<Figure size 720x720 with 1 Axes>"
            ],
            "image/png": "[encoded data removed]"
          },
          "metadata": {
            "needs_background": "light"
          }
        },
        {
          "output_type": "stream",
          "name": "stdout",
          "text": [
            "The list of input words was: ['eagle', 'elephant', 'giraffe', 'snake', 'rat']\n",
            "I was not suprised that all the animals were clustered together because\n",
            "they are the same type of object.\n"
          ]
        },
        {
          "output_type": "display_data",
          "data": {
            "text/plain": [
              "<Figure size 720x720 with 1 Axes>"
            ],
            "image/png": "[encoded data removed]"
          },
          "metadata": {
            "needs_background": "light"
          }
        },
        {
          "output_type": "stream",
          "name": "stdout",
          "text": [
            "The list of input words was: ['chair', 'book', 'notebook', 'laptop']\n",
            "I was not suprised that chair and book are farther away while notebook and\n",
            "laptop are very close since these are both used exclusively for work.\n",
            "\n",
            "\n"
          ]
        }
      ],
      "source": [
        "#Example\n",
        "%matplotlib inline\n",
        "plt.figure(figsize=(10,10))\n",
        "display_tsne_neighborhood(glove, input_word = ['conservative', 'liberal', 'donkey', 'elephant'])\n",
        "\n",
        "print (\"The list of input words was: ['conservative', 'liberal', 'donkey', 'elephant']\")\n",
        "print ('I find it interesting that liberal and conservative are very close')\n",
        "print ('together while donkey and elephant are very close together in the model. ')\n",
        "print ('This is because while a human may know that the elephant is the symbol of')\n",
        "print ('the GOP, this is difficult for a computer to know without political context,')\n",
        "print ('and it instead classifies the elephant as an animal rather than a symbol.')\n",
        "\n",
        "#1\n",
        "%matplotlib inline\n",
        "plt.figure(figsize=(10,10))\n",
        "display_tsne_neighborhood(glove, input_word = ['apple', 'banana', 'red', 'yellow'])\n",
        "\n",
        "print (\"The list of input words was: ['apple', 'banana', 'red', 'yellow']\")\n",
        "print ('I was suprised that apple was so far away from banana, red, and yellow.')\n",
        "print ('I was expecting it to be near banana, the other fruit.')\n",
        "#2\n",
        "%matplotlib inline\n",
        "plt.figure(figsize=(10,10))\n",
        "display_tsne_neighborhood(glove, input_word = ['orange', 'apple', 'plum', 'blue'])\n",
        "\n",
        "print (\"The list of input words was: ['orange', 'apple', 'plum', 'blue']\")\n",
        "print ('I was unsuprised that the colors all congregated in the same area')\n",
        "print ('since they are all used similarly in speech')\n",
        "\n",
        "#3\n",
        "%matplotlib inline\n",
        "plt.figure(figsize=(10,10))\n",
        "display_tsne_neighborhood(glove, input_word =\n",
        "                          ['right', 'left', 'correct', 'wrong', 'conservative'])\n",
        "\n",
        "print (\"The list of input words was: ['right', 'left', 'correct',\")\n",
        "print (\"'wrong', 'conservative']\")\n",
        "print ('I was expecting right to be close to conservative, but instad, ')\n",
        "print ('conservative was by itself while the other four were clustered together.')\n",
        "\n",
        "#4\n",
        "%matplotlib inline\n",
        "plt.figure(figsize=(10,10))\n",
        "display_tsne_neighborhood(glove, input_word = ['zoo', 'pig', 'farm', 'lion'])\n",
        "\n",
        "print (\"The list of input words was: ['zoo', 'pig', 'farm', 'lion']\")\n",
        "print ('I was expecting zoo and farm to be together since they are places while')\n",
        "print ('pig and lion are together because they are animals')\n",
        "print ('Instead, lion was separate from the other three words, which I found suprising.')\n",
        "\n",
        "#5\n",
        "%matplotlib inline\n",
        "plt.figure(figsize=(10,10))\n",
        "display_tsne_neighborhood(glove, input_word = ['eagle', 'elephant', 'giraffe', 'snake', 'rat'])\n",
        "\n",
        "print (\"The list of input words was: ['eagle', 'elephant', 'giraffe', 'snake', 'rat']\")\n",
        "print ('I was not suprised that all the animals were clustered together because')\n",
        "print ('they are the same type of object.')\n",
        "\n",
        "#6\n",
        "%matplotlib inline\n",
        "plt.figure(figsize=(10,10))\n",
        "display_tsne_neighborhood(glove, input_word = ['chair', 'book', 'notebook', 'laptop'])\n",
        "\n",
        "print (\"The list of input words was: ['chair', 'book', 'notebook', 'laptop']\")\n",
        "print ('I was not suprised that chair and book are farther away while notebook and')\n",
        "print ('laptop are very close since these are both used exclusively for work.')\n",
        "\n",
        "print ()\n",
        "print ()\n",
        "\n"
      ],
      "id": "muBeIFJfA8jg"
    },
    {
      "cell_type": "markdown",
      "metadata": {
        "id": "CcOBiuMgA8jg"
      },
      "source": [
        "### Problem  3: Experiments with Musician Embeddings (15 points)\n",
        "\n",
        "\n",
        "In this problem, we will use a collection of playlists obtained from [last.fm](http://last.fm). We treat each playlist as a document, and each artist in the playlist as a word. By feeding this dataset to word2vec, we will be able to learn artist embeddings."
      ],
      "id": "CcOBiuMgA8jg"
    },
    {
      "cell_type": "markdown",
      "metadata": {
        "id": "NkZOe_gJA8jg"
      },
      "source": [
        "#### Artist Embeddings\n",
        "\n",
        "The following experiments will be done with the playlist data file `playlists.txt`. Each line in this file is a playlist. The integers on each line are unique artist identifiers, indicating which artists were in each playlist. The artists are in `artists.txt`."
      ],
      "id": "NkZOe_gJA8jg"
    },
    {
      "cell_type": "markdown",
      "metadata": {
        "id": "jfAVp2IrA8jh"
      },
      "source": [
        "The code below constructs artist embeddings with word2vec. The artist names are mapped to id numbers in the playlists; the code maps them back to display the names."
      ],
      "id": "jfAVp2IrA8jh"
    },
    {
      "cell_type": "code",
      "execution_count": null,
      "metadata": {
        "id": "BnqQmEA-A8jh"
      },
      "outputs": [],
      "source": [
        "import gensim\n",
        "from gensim.models import word2vec\n",
        "import logging\n",
        "\n",
        "logging.basicConfig(format='%(asctime)s : %(levelname)s : %(message)s', level=logging.INFO)"
      ],
      "id": "BnqQmEA-A8jh"
    },
    {
      "cell_type": "code",
      "execution_count": null,
      "metadata": {
        "id": "gx3WAdQRA8jh"
      },
      "outputs": [],
      "source": [
        "playlists = word2vec.LineSentence('https://raw.githubusercontent.com/YData123/sds265-fa22/master/assignments/assn4/playlists.txt')\n",
        "music_model = word2vec.Word2Vec(playlists, size=64, window=100, min_count=10)"
      ],
      "id": "gx3WAdQRA8jh"
    },
    {
      "cell_type": "code",
      "execution_count": null,
      "metadata": {
        "id": "-GFevI5IA8jh",
        "colab": {
          "base_uri": "https://localhost:8080/"
        },
        "outputId": "588d3c54-7f59-4017-a368-619e492cf0c2"
      },
      "outputs": [
        {
          "output_type": "execute_result",
          "data": {
            "text/plain": [
              "array([ 0.24947071, -0.35004723,  0.09832823,  0.7301962 ,  0.43788657,\n",
              "       -0.25319222, -0.16092981,  0.77530026, -0.94533896,  0.08933414,\n",
              "       -0.0085277 ,  0.4723321 ,  0.24173293,  0.82962567, -0.5395575 ,\n",
              "       -0.2526739 , -0.6059386 , -1.1726171 ,  0.2187396 ,  0.72159725,\n",
              "        0.5497359 ,  0.6119349 ,  0.2545262 , -0.2518343 , -0.22980747,\n",
              "       -0.14683098,  0.55691916, -0.06008076, -0.09704841, -0.3326424 ,\n",
              "        0.9302474 ,  0.09330507,  0.6655262 ,  0.5738008 , -0.40292072,\n",
              "       -0.7590747 , -0.05765826,  0.41237187,  0.87579465,  1.0542175 ,\n",
              "       -0.07882317,  0.4920718 , -0.21459344, -0.38185957,  0.44279444,\n",
              "       -0.07457295,  0.9803837 , -0.70326525,  0.5553825 , -0.67858607,\n",
              "       -0.36537892,  0.46775588, -0.21938154,  1.3057603 ,  1.321647  ,\n",
              "        0.2251287 , -0.15902743,  0.16706058,  0.74153554,  0.32165098,\n",
              "        0.50408447,  0.30502808, -0.10717829,  0.28712717], dtype=float32)"
            ]
          },
          "metadata": {},
          "execution_count": 102
        }
      ],
      "source": [
        "music_model.wv['299']"
      ],
      "id": "-GFevI5IA8jh"
    },
    {
      "cell_type": "code",
      "execution_count": null,
      "metadata": {
        "id": "XnVy9vz8A8jh",
        "colab": {
          "base_uri": "https://localhost:8080/"
        },
        "outputId": "cc3fed1b-61f9-40ba-bbae-e6e0a10f8c69"
      },
      "outputs": [
        {
          "output_type": "execute_result",
          "data": {
            "text/plain": [
              "['Everette Harp',\n",
              " 'Bishop Paul S. Morton & Aretha Franklin',\n",
              " 'Frankie Ballard',\n",
              " 'Herb Alpert',\n",
              " 'Rod Stewart & Chaka Khan',\n",
              " 'Scars On 45',\n",
              " 'New Radicals',\n",
              " 'Crosby, Stills & Nash',\n",
              " 'Ledisi',\n",
              " 'La Quinta Estacion']"
            ]
          },
          "metadata": {},
          "execution_count": 103
        }
      ],
      "source": [
        "from urllib.request import urlopen\n",
        "\n",
        "artist = []\n",
        "file = urlopen('https://raw.githubusercontent.com/YData123/sds265-fa22/master/assignments/assn4/artists.txt')\n",
        "for line in file:\n",
        "    art = line.decode(\"utf-8\")\n",
        "    artist.append(art.strip())\n",
        "\n",
        "artist[0:10]"
      ],
      "id": "XnVy9vz8A8jh"
    },
    {
      "cell_type": "code",
      "execution_count": null,
      "metadata": {
        "id": "jGS7C0GFA8jh",
        "colab": {
          "base_uri": "https://localhost:8080/",
          "height": 35
        },
        "outputId": "8209bba1-7483-4fcb-e477-05e9b0078390"
      },
      "outputs": [
        {
          "output_type": "execute_result",
          "data": {
            "text/plain": [
              "'Elton John'"
            ],
            "application/vnd.google.colaboratory.intrinsic+json": {
              "type": "string"
            }
          },
          "metadata": {},
          "execution_count": 104
        }
      ],
      "source": [
        "id2name = {}\n",
        "name2id = {}\n",
        "for w in range(len(artist)):\n",
        "    id2name[\"%s\" % w] = artist[w]\n",
        "    name2id[artist[w]] = \"%s\" % w\n",
        "\n",
        "id2name[name2id['Elton John']]"
      ],
      "id": "jGS7C0GFA8jh"
    },
    {
      "cell_type": "markdown",
      "metadata": {
        "id": "Oh8f8QCtA8ji"
      },
      "source": [
        "#### 3.1 Similar artists\n",
        "\n",
        "Find the 5 closest artist embedding vectors to the artists \"The Beatles\", \"Lady Gaga\", and \"Nirvana\". Comment on the results."
      ],
      "id": "Oh8f8QCtA8ji"
    },
    {
      "cell_type": "code",
      "execution_count": null,
      "metadata": {
        "id": "4KFeWrIrA8ji",
        "colab": {
          "base_uri": "https://localhost:8080/"
        },
        "outputId": "5e806e0f-42e2-4a7a-e143-a6df0f791da0"
      },
      "outputs": [
        {
          "output_type": "stream",
          "name": "stdout",
          "text": [
            "artists similar to 'Aerosmith'\n",
            "\n",
            "\tBilly Idol\n",
            "\tThe Jimi Hendrix Experience\n",
            "\tThe Black Crowes\n",
            "\tBoston\n",
            "\tDef Leppard\n"
          ]
        }
      ],
      "source": [
        "# Don't change this function\n",
        "def similar_artists(model, artist, n=5):\n",
        "    id = name2id[artist]\n",
        "    out = model.wv.most_similar(id, topn=n)\n",
        "\n",
        "    print(\"artists similar to '%s'\\n\" % artist)\n",
        "    for i in range(n) :\n",
        "        name = id2name[out[i][0]]\n",
        "        print(\"\\t%s\" % name)\n",
        "\n",
        "similar_artists(music_model, 'Aerosmith')"
      ],
      "id": "4KFeWrIrA8ji"
    },
    {
      "cell_type": "code",
      "execution_count": null,
      "metadata": {
        "id": "0n28CIqHA8ji",
        "colab": {
          "base_uri": "https://localhost:8080/"
        },
        "outputId": "557077d6-4622-4498-e392-53451b9a68b7"
      },
      "outputs": [
        {
          "output_type": "stream",
          "name": "stdout",
          "text": [
            "artists similar to 'The Beatles'\n",
            "\n",
            "\tSteppenwolf\n",
            "\tThe Electric Light Orchestra\n",
            "\tCreedence Clearwater Revival\n",
            "\tGrand Funk Railroad\n",
            "\tThe Kinks\n",
            "artists similar to 'Lady Gaga'\n",
            "\n",
            "\tBruno Mars\n",
            "\tKaty Perry\n",
            "\tKe$ha\n",
            "\tBlack Eyed Peas\n",
            "\tTaio Cruz\n",
            "artists similar to 'Nirvana'\n",
            "\n",
            "\tTemple Of The Dog\n",
            "\tStone Temple Pilots\n",
            "\tFaith No More\n",
            "\tAudioslave\n",
            "\tPearl Jam\n"
          ]
        }
      ],
      "source": [
        "# your code and markdown here\n",
        "similar_artists(music_model, 'The Beatles')\n",
        "similar_artists(music_model, 'Lady Gaga')\n",
        "similar_artists(music_model, 'Nirvana')"
      ],
      "id": "0n28CIqHA8ji"
    },
    {
      "cell_type": "markdown",
      "source": [
        "It makes sense that classic rock bands are chosen as similar to \"The Beatles\", top pop musicians of the last 10 years are considered similar to Lady Gaga, and Nirvana centers upon artists from the 80s/90s."
      ],
      "metadata": {
        "id": "FFMK6XG0v_qU"
      },
      "id": "FFMK6XG0v_qU"
    },
    {
      "cell_type": "markdown",
      "metadata": {
        "id": "pgFAmAjnA8ji"
      },
      "source": [
        "#### 3.2 Visualize embeddings\n",
        "\n",
        "Use the t-SNE dimensionality reduction technique to visualize the artist embeddings. After running t-SNE on the artist embeddings, try visualizing  \"The Temptations\" and \"The Supremes\" together. Find a few more examples that you think are interesting and include the plots in your write-up. Comment on your findings."
      ],
      "id": "pgFAmAjnA8ji"
    },
    {
      "cell_type": "code",
      "execution_count": null,
      "metadata": {
        "id": "h1C1mwBCA8ji"
      },
      "outputs": [],
      "source": [
        "%matplotlib inline\n",
        "import numpy as np\n",
        "import matplotlib.pyplot as plt\n",
        "from sklearn.manifold import TSNE\n",
        "\n",
        "\n",
        "# this functions computes and displays the 2-d t-SNE maps for a subset of the embedding vectors\n",
        "# and displays them together with the points for a set of input words.\n",
        "\n",
        "def display_tsne_artists(model, artists, nsample=1000, size1=2, size2=10, offset=5):\n",
        "\n",
        "    arr = np.empty((0,64), dtype='f')\n",
        "\n",
        "    # add the vector for each of the closest words to the array\n",
        "    for a in range(len(artists)):\n",
        "        id = name2id[artists[a]]\n",
        "        arr = np.append(arr, np.array([model[id]]), axis=0)\n",
        "\n",
        "    voc = [w for w in model.wv.vocab]\n",
        "    ids = np.random.choice(range(len(voc)), size=nsample, replace=False)\n",
        "    for w in ids:\n",
        "        wrd_vector = model[voc[w]]\n",
        "        arr = np.append(arr, np.array([wrd_vector]), axis=0)\n",
        "\n",
        "    # find tsne coords for 2 dimensions\n",
        "    tsne = TSNE(n_components=2, random_state=0)\n",
        "    np.set_printoptions(suppress=True)\n",
        "    Y = tsne.fit_transform(arr)\n",
        "\n",
        "    x_coord = Y[:, 0]\n",
        "    y_coord = Y[:, 1]\n",
        "    # display scatter plot\n",
        "    size=2\n",
        "    plt.scatter(x_coord, y_coord, s=size1)\n",
        "    plt.scatter(x_coord[0:len(artists)], y_coord[0:len(artists)],s=size2)\n",
        "\n",
        "    # label the input words\n",
        "    for w in range(len(artists)):\n",
        "        plt.annotate(artists[w], xy=(x_coord[w],y_coord[w]), \\\n",
        "                     xytext=(w*offset,w*offset), textcoords='offset points')\n",
        "    plt.show()"
      ],
      "id": "h1C1mwBCA8ji"
    },
    {
      "cell_type": "code",
      "execution_count": null,
      "metadata": {
        "id": "RnoMollvA8ji",
        "colab": {
          "base_uri": "https://localhost:8080/",
          "height": 959
        },
        "outputId": "bd25e651-f180-4921-c7d8-90857f96cfdc"
      },
      "outputs": [
        {
          "output_type": "display_data",
          "data": {
            "text/plain": [
              "<Figure size 432x288 with 1 Axes>"
            ],
            "image/png": "[encoded data removed]"
          },
          "metadata": {
            "needs_background": "light"
          }
        },
        {
          "output_type": "stream",
          "name": "stdout",
          "text": [
            "In this plot I am comparing The Supremes and The Temptations.\n",
            "Since these are both classic rock bands, they have vectors that\n",
            "are very graphically close to each other\n"
          ]
        },
        {
          "output_type": "display_data",
          "data": {
            "text/plain": [
              "<Figure size 432x288 with 1 Axes>"
            ],
            "image/png": "[encoded data removed]"
          },
          "metadata": {
            "needs_background": "light"
          }
        },
        {
          "output_type": "stream",
          "name": "stdout",
          "text": [
            "In this plot I am comparing Faith No More and Bruno Mars.\n",
            "Since Faith No More is a rock band started in the 1980s and Bruno Mars\n",
            "is a pop/funk/R&B artist they have dramatically different\n",
            "musical vectors, as shown graphically\n"
          ]
        },
        {
          "output_type": "display_data",
          "data": {
            "text/plain": [
              "<Figure size 432x288 with 1 Axes>"
            ],
            "image/png": "[encoded data removed]"
          },
          "metadata": {
            "needs_background": "light"
          }
        },
        {
          "output_type": "stream",
          "name": "stdout",
          "text": [
            "In this plot I am comparing Lady Gaga and Faith No More. There is a\n",
            "clear separation between the two artists,\n",
            "similar to the example with Bruno Mars above.\n"
          ]
        }
      ],
      "source": [
        "# your code and markdown here\n",
        "display_tsne_artists(music_model, ['The Temptations','The Supremes'])\n",
        "print ('In this plot I am comparing The Supremes and The Temptations.')\n",
        "print ('Since these are both classic rock bands, they have vectors that')\n",
        "print ('are very graphically close to each other')\n",
        "\n",
        "display_tsne_artists(music_model, ['Faith No More','Bruno Mars'])\n",
        "print ('In this plot I am comparing Faith No More and Bruno Mars.')\n",
        "print ('Since Faith No More is a rock band started in the 1980s and Bruno Mars')\n",
        "print ('is a pop/funk/R&B artist they have dramatically different')\n",
        "print ('musical vectors, as shown graphically')\n",
        "\n",
        "display_tsne_artists(music_model, ['Lady Gaga','Faith No More'])\n",
        "print ('In this plot I am comparing Lady Gaga and Faith No More. There is a')\n",
        "print ('clear separation between the two artists,')\n",
        "print ('similar to the example with Bruno Mars above.')"
      ],
      "id": "RnoMollvA8ji"
    }
  ],
  "metadata": {
    "kernelspec": {
      "display_name": "Python 3",
      "language": "python",
      "name": "python3"
    },
    "language_info": {
      "codemirror_mode": {
        "name": "ipython",
        "version": 3
      },
      "file_extension": ".py",
      "mimetype": "text/x-python",
      "name": "python",
      "nbconvert_exporter": "python",
      "pygments_lexer": "ipython3",
      "version": "3.8.5"
    },
    "colab": {
      "provenance": []
    },
    "gpuClass": "standard"
  },
  "nbformat": 4,
  "nbformat_minor": 5
}